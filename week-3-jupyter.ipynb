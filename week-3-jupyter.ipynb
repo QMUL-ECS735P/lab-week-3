{
 "cells": [
  {
   "cell_type": "markdown",
   "metadata": {
    "id": "2aQaIrLHlz5-"
   },
   "source": [
    "# Introduction to Python and RDFlib\n",
    "\n",
    "> **Session objectives:**\n",
    ">   - Become familiar with using Python to create simple Semantic Web programs.\n",
    ">   - Learn how to use RDFlib to load and manipulate RDF graphs."
   ]
  },
  {
   "cell_type": "markdown",
   "metadata": {
    "id": "QMcTkFXklz6C"
   },
   "source": [
    "## 1. Introduction\n",
    "In this lab we'll be using Python to develop simple scripts that access, query, and manipulate RDF semantic data.\n",
    "\n",
    "If you're new to Python it would be wise to keep the basic tutorial handy for reference: \n",
    "- https://docs.python.org/3.7/tutorial/. \n",
    "\n",
    "Python scripts are run by calling the `python` command, followed by the name of the python script to execute, for example:\n",
    "\n",
    "```bash\n",
    "python hello_world.py\n",
    "```\n",
    "\n",
    "It is also possible to run python in an interactive mode known as a REPL, to do this simply call `python` without any arguments:\n",
    "\n",
    "```\n",
    "python\n",
    "```\n",
    "\n",
    "If you are using one of the machines in the ITL, you will be able to follow along with this lab sheet with minimal fuss. Make sure you boot into **Linux** and not Windows. If you would like to use your own computer, you'll need to make sure you have python installed as well as the following additional libraries:\n",
    "- sparql-wrapper: https://github.com/RDFLib/sparqlwrapper\n",
    "- rdflib: https://github.com/RDFLib/rdflib\n",
    "- pyparsing: http://pyparsing.wikispaces.com/\n",
    "- networkx: http://networkx.lanl.gov/\n",
    "\n",
    "To run the interactive notebooks, you will also need to install Jupyter: https://jupyter.org/\n"
   ]
  },
  {
   "cell_type": "markdown",
   "metadata": {
    "id": "XFNoP-7xlz6F"
   },
   "source": [
    "## 2. The RDFLib Graph\n",
    "We'll be working with the serialised RDF graph file `shakespeare.n3`. If it was not included with this document, you can download it yourself from: https://raw.githubusercontent.com/QMUL-ECS735P/lab-week-3/master/shakespeare.n3\n",
    "\n",
    "Open the file in a text editor and identify each RDF triple; how many are there? Have a look at both the prefixes and the defined triples. How many different concepts are defined in this RDF graph? How many properties?\n",
    "\n",
    "Before we can run python on the ITL machines, we need to set up the python environment by entering the following in the terminal:\n",
    "\n",
    "```\n",
    "module load python/3.6.6\n",
    "```\n",
    "\n",
    "This step as crucial to ensure the machines load the correct version of python and the libraries we depend on. You will have to do this every week!\n",
    "\n",
    "If you type now `python` in the terminal you should see the following output:\n",
    "\n",
    "```\n",
    "bash-4.2$ python\n",
    "Python 3.6.6 (default, Sep  3 2018, 15:31:46) \n",
    "[GCC 4.8.5 20150623 (Red Hat 4.8.5-28)] on linux\n",
    "Type \"help\", \"copyright\", \"credits\" or \"license\" for more information.\n",
    ">>> \n",
    "```\n",
    "\n",
    "Take a moment to familiarse yourself with python and the interactive shell by running some of the commands details here: https://docs.python.org/3/tutorial/introduction.html#using-python-as-a-calculator\n",
    "\n",
    "---\n",
    "\n",
    "Before using functions and classes from RDFlib, we need to add some import declarations. Evaluate the following code line-by-line:"
   ]
  },
  {
   "cell_type": "code",
   "execution_count": 47,
   "metadata": {
    "id": "5o3EuW8Jlz6J"
   },
   "outputs": [],
   "source": [
    "from __future__ import print_function, unicode_literals\n",
    "import warnings\n",
    "warnings.filterwarnings('ignore')"
   ]
  },
  {
   "cell_type": "code",
   "execution_count": 48,
   "metadata": {
    "colab": {
     "base_uri": "https://localhost:8080/"
    },
    "id": "fDybx9OBlz6L",
    "outputId": "c073d8d0-48a9-4797-f277-64353c97404e"
   },
   "outputs": [
    {
     "name": "stdout",
     "output_type": "stream",
     "text": [
      "Looking in indexes: https://pypi.org/simple, https://us-python.pkg.dev/colab-wheels/public/simple/\n",
      "Requirement already satisfied: rdflib in /usr/local/lib/python3.8/dist-packages (6.2.0)\n",
      "Requirement already satisfied: isodate in /usr/local/lib/python3.8/dist-packages (from rdflib) (0.6.1)\n",
      "Requirement already satisfied: pyparsing in /usr/local/lib/python3.8/dist-packages (from rdflib) (3.0.9)\n",
      "Requirement already satisfied: setuptools in /usr/local/lib/python3.8/dist-packages (from rdflib) (57.4.0)\n",
      "Requirement already satisfied: six in /usr/local/lib/python3.8/dist-packages (from isodate->rdflib) (1.15.0)\n"
     ]
    }
   ],
   "source": [
    "!pip install rdflib\n",
    "\n",
    "import rdflib\n",
    "from rdflib.graph import Graph, Store, URIRef, BNode, Literal\n",
    "from rdflib.namespace import Namespace, RDF, RDFS\n",
    "from rdflib import plugin"
   ]
  },
  {
   "cell_type": "markdown",
   "metadata": {
    "id": "TXstYLrIlz6N"
   },
   "source": [
    "The Graph class in RDFlib represents a set of triples. We're going to create a new Graph and populate it with the definitions in `shakespeare.n3`."
   ]
  },
  {
   "cell_type": "code",
   "execution_count": 49,
   "metadata": {
    "colab": {
     "base_uri": "https://localhost:8080/"
    },
    "id": "7PaQONpzlz6O",
    "outputId": "a36ede8e-c478-43c0-c0b7-0a4b6b9de039"
   },
   "outputs": [
    {
     "data": {
      "text/plain": [
       "<Graph identifier=N307f652c93624165812080d76a88ead8 (<class 'rdflib.graph.Graph'>)>"
      ]
     },
     "execution_count": 49,
     "metadata": {},
     "output_type": "execute_result"
    }
   ],
   "source": [
    "g = Graph()\n",
    "g.parse('shakespeare.n3', format = 'n3')"
   ]
  },
  {
   "cell_type": "markdown",
   "metadata": {
    "id": "oNlvod29lz6P"
   },
   "source": [
    "If `shakespeare.n3` is saved in a different folder, make sure you write the correct path to the file. We can also create the graph by fetching the data directly from the internet:"
   ]
  },
  {
   "cell_type": "code",
   "execution_count": null,
   "metadata": {
    "colab": {
     "base_uri": "https://localhost:8080/"
    },
    "id": "ehUaCjL7lz6Q",
    "outputId": "0a71c0e8-070a-45e2-a422-c1bdca333c99"
   },
   "outputs": [
    {
     "data": {
      "text/plain": [
       "<Graph identifier=N3f8779e676c64e188af05ce10b332014 (<class 'rdflib.graph.Graph'>)>"
      ]
     },
     "execution_count": 5,
     "metadata": {},
     "output_type": "execute_result"
    }
   ],
   "source": [
    "g.parse('https://raw.githubusercontent.com/QMUL-ECS735P/lab-week-3/master/shakespeare.n3', format = 'n3')"
   ]
  },
  {
   "cell_type": "markdown",
   "metadata": {
    "id": "xieUWjmjlz6S"
   },
   "source": [
    "The RDF graph is now loaded in memory. We can check the number of statements using the `len` function:"
   ]
  },
  {
   "cell_type": "code",
   "execution_count": null,
   "metadata": {
    "colab": {
     "base_uri": "https://localhost:8080/"
    },
    "id": "F39cDqq9lz6T",
    "outputId": "54483555-d49b-4520-e34f-d07f174843a1"
   },
   "outputs": [
    {
     "data": {
      "text/plain": [
       "108"
      ]
     },
     "execution_count": 6,
     "metadata": {},
     "output_type": "execute_result"
    }
   ],
   "source": [
    "len(g)"
   ]
  },
  {
   "cell_type": "markdown",
   "metadata": {
    "id": "flYbAg-plz6U"
   },
   "source": [
    "Or an internal representation of the object using `repr`:"
   ]
  },
  {
   "cell_type": "code",
   "execution_count": null,
   "metadata": {
    "colab": {
     "base_uri": "https://localhost:8080/",
     "height": 35
    },
    "id": "v1BUYwP_lz6U",
    "outputId": "0ec19289-21a5-4aec-ba52-94c97d7bf90c"
   },
   "outputs": [
    {
     "data": {
      "application/vnd.google.colaboratory.intrinsic+json": {
       "type": "string"
      },
      "text/plain": [
       "\"<Graph identifier=N3f8779e676c64e188af05ce10b332014 (<class 'rdflib.graph.Graph'>)>\""
      ]
     },
     "execution_count": 7,
     "metadata": {},
     "output_type": "execute_result"
    }
   ],
   "source": [
    "repr(g)"
   ]
  },
  {
   "cell_type": "markdown",
   "metadata": {
    "id": "FS9MEkkRlz6V"
   },
   "source": [
    "Now, use a `for` loop to iterate through the contents of the graph (you can find the documentation for loops here: http://docs.python.org/tutorial/controlflow.html#for-statements). For now we'll just print each statement out. \n",
    "\n",
    "> Python is whitespace sensitive! We don't use `{ ... }` to denote blocks of code, instead we use indentation such as spaces or tabs."
   ]
  },
  {
   "cell_type": "code",
   "execution_count": null,
   "metadata": {
    "colab": {
     "base_uri": "https://localhost:8080/"
    },
    "id": "hz12pf22lz6W",
    "outputId": "12f1388c-f0ee-479b-b7b4-c8c694a0f7f8"
   },
   "outputs": [
    {
     "name": "stdout",
     "output_type": "stream",
     "text": [
      "(rdflib.term.URIRef('http://www.workingontologist.org/Examples/Chapter3/geography.owl#Scotland'), rdflib.term.URIRef('http://www.w3.org/2000/01/rdf-schema#label'), rdflib.term.Literal('Scotland', datatype=rdflib.term.URIRef('http://www.w3.org/2001/XMLSchema#string')))\n",
      "(rdflib.term.URIRef('http://www.workingontologist.org/Examples/Chapter3/shakespeare.owl#AnneHathaway'), rdflib.term.URIRef('http://www.workingontologist.org/Examples/Chapter3/biography.owl#married'), rdflib.term.URIRef('http://www.workingontologist.org/Examples/Chapter3/shakespeare.owl#Shakespeare'))\n",
      "(rdflib.term.URIRef('http://www.workingontologist.org/Examples/Chapter3/shakespeare.owl#Shakespeare'), rdflib.term.URIRef('http://www.workingontologist.org/Examples/Chapter3/shakespeare.owl#wrote'), rdflib.term.URIRef('http://www.workingontologist.org/Examples/Chapter3/shakespeare.owl#AsYouLikeIt'))\n",
      "(rdflib.term.URIRef('http://www.workingontologist.org/Examples/Chapter3/biography.owl#married'), rdflib.term.URIRef('http://www.w3.org/2000/01/rdf-schema#label'), rdflib.term.Literal('married', datatype=rdflib.term.URIRef('http://www.w3.org/2001/XMLSchema#string')))\n",
      "(rdflib.term.URIRef('http://www.workingontologist.org/Examples/Chapter3/geography.owl#ChannelIslands'), rdflib.term.URIRef('http://www.w3.org/1999/02/22-rdf-syntax-ns#type'), rdflib.term.URIRef('http://www.workingontologist.org/Examples/Chapter3/shakespeare.owl#Place'))\n",
      "(rdflib.term.URIRef('http://www.workingontologist.org/Examples/Chapter3/shakespeare.owl'), rdflib.term.URIRef('http://www.w3.org/1999/02/22-rdf-syntax-ns#type'), rdflib.term.URIRef('http://www.w3.org/2002/07/owl#Ontology'))\n",
      "(rdflib.term.BNode('fd4dbdcb1b0b443b0b7a362b26077b309b2'), rdflib.term.URIRef('http://www.w3.org/1999/02/22-rdf-syntax-ns#first'), rdflib.term.URIRef('http://www.workingontologist.org/Examples/Chapter3/shakespeare.owl#Hamnet'))\n",
      "(rdflib.term.URIRef('http://www.workingontologist.org/Examples/Chapter3/shakespeare.owl#Shakespeare'), rdflib.term.URIRef('http://www.workingontologist.org/Examples/Chapter3/shakespeare.owl#wrote'), rdflib.term.URIRef('http://www.workingontologist.org/Examples/Chapter3/shakespeare.owl#HenryV'))\n",
      "(rdflib.term.URIRef('http://www.workingontologist.org/Examples/Chapter3/shakespeare.owl#Person'), rdflib.term.URIRef('http://www.w3.org/1999/02/22-rdf-syntax-ns#type'), rdflib.term.URIRef('http://www.w3.org/2002/07/owl#Class'))\n",
      "(rdflib.term.URIRef('http://www.workingontologist.org/Examples/Chapter3/biography.owl#livedIn'), rdflib.term.URIRef('http://www.w3.org/2000/01/rdf-schema#label'), rdflib.term.Literal('lived in', datatype=rdflib.term.URIRef('http://www.w3.org/2001/XMLSchema#string')))\n",
      "(rdflib.term.URIRef('http://www.workingontologist.org/Examples/Chapter3/shakespeare.owl#Place'), rdflib.term.URIRef('http://www.w3.org/2000/01/rdf-schema#label'), rdflib.term.Literal('Place', datatype=rdflib.term.URIRef('http://www.w3.org/2001/XMLSchema#string')))\n",
      "(rdflib.term.URIRef('http://www.workingontologist.org/Examples/Chapter3/shakespeare.owl#wrote'), rdflib.term.URIRef('http://www.w3.org/2000/01/rdf-schema#label'), rdflib.term.Literal('wrote', datatype=rdflib.term.URIRef('http://www.w3.org/2001/XMLSchema#string')))\n",
      "(rdflib.term.URIRef('http://www.workingontologist.org/Examples/Chapter3/shakespeare.owl#Shakespeare'), rdflib.term.URIRef('http://www.workingontologist.org/Examples/Chapter3/shakespeare.owl#wrote'), rdflib.term.URIRef('http://www.workingontologist.org/Examples/Chapter3/shakespeare.owl#MeasureForMeasure'))\n",
      "(rdflib.term.URIRef('http://www.workingontologist.org/Examples/Chapter3/shakespeare.owl#LovesLaboursLost'), rdflib.term.URIRef('http://www.w3.org/1999/02/22-rdf-syntax-ns#type'), rdflib.term.URIRef('http://www.workingontologist.org/Examples/Chapter3/shakespeare.owl#Play'))\n",
      "(rdflib.term.URIRef('http://www.workingontologist.org/Examples/Chapter3/geography.owl#isIn'), rdflib.term.URIRef('http://www.w3.org/2000/01/rdf-schema#label'), rdflib.term.Literal('is in', datatype=rdflib.term.URIRef('http://www.w3.org/2001/XMLSchema#string')))\n",
      "(rdflib.term.URIRef('http://www.workingontologist.org/Examples/Chapter3/shakespeare.owl#Susanna'), rdflib.term.URIRef('http://www.w3.org/1999/02/22-rdf-syntax-ns#type'), rdflib.term.URIRef('http://www.workingontologist.org/Examples/Chapter3/shakespeare.owl#Person'))\n",
      "(rdflib.term.BNode('f7a323a26570d4d73a5e788aef3885891b1'), rdflib.term.URIRef('http://www.w3.org/1999/02/22-rdf-syntax-ns#rest'), rdflib.term.BNode('f7a323a26570d4d73a5e788aef3885891b2'))\n",
      "(rdflib.term.URIRef('http://www.workingontologist.org/Examples/Chapter3/shakespeare.owl#Shakespeare'), rdflib.term.URIRef('http://www.w3.org/2000/01/rdf-schema#label'), rdflib.term.Literal('Shakespeare', datatype=rdflib.term.URIRef('http://www.w3.org/2001/XMLSchema#string')))\n",
      "(rdflib.term.URIRef('http://www.workingontologist.org/Examples/Chapter3/geography.owl#UK'), rdflib.term.URIRef('http://www.w3.org/2000/01/rdf-schema#label'), rdflib.term.Literal('UK', datatype=rdflib.term.URIRef('http://www.w3.org/2001/XMLSchema#string')))\n",
      "(rdflib.term.URIRef('http://www.workingontologist.org/Examples/Chapter3/shakespeare.owl#AsYouLikeIt'), rdflib.term.URIRef('http://www.w3.org/1999/02/22-rdf-syntax-ns#type'), rdflib.term.URIRef('http://www.workingontologist.org/Examples/Chapter3/shakespeare.owl#Play'))\n",
      "(rdflib.term.BNode('fd4dbdcb1b0b443b0b7a362b26077b309b3'), rdflib.term.URIRef('http://www.w3.org/1999/02/22-rdf-syntax-ns#rest'), rdflib.term.URIRef('http://www.w3.org/1999/02/22-rdf-syntax-ns#nil'))\n",
      "(rdflib.term.URIRef('http://www.workingontologist.org/Examples/Chapter3/shakespeare.owl#Play'), rdflib.term.URIRef('http://www.w3.org/2000/01/rdf-schema#label'), rdflib.term.Literal('Play', datatype=rdflib.term.URIRef('http://www.w3.org/2001/XMLSchema#string')))\n",
      "(rdflib.term.URIRef('http://www.workingontologist.org/Examples/Chapter3/geography.owl#Wales'), rdflib.term.URIRef('http://www.workingontologist.org/Examples/Chapter3/geography.owl#partOf'), rdflib.term.URIRef('http://www.workingontologist.org/Examples/Chapter3/geography.owl#UK'))\n",
      "(rdflib.term.BNode('f7a323a26570d4d73a5e788aef3885891b1'), rdflib.term.URIRef('http://www.w3.org/1999/02/22-rdf-syntax-ns#first'), rdflib.term.URIRef('http://www.workingontologist.org/Examples/Chapter3/shakespeare.owl#Susanna'))\n",
      "(rdflib.term.URIRef('http://www.workingontologist.org/Examples/Chapter3/shakespeare.owl#Judith'), rdflib.term.URIRef('http://www.w3.org/1999/02/22-rdf-syntax-ns#type'), rdflib.term.URIRef('http://www.workingontologist.org/Examples/Chapter3/shakespeare.owl#Person'))\n",
      "(rdflib.term.URIRef('http://www.workingontologist.org/Examples/Chapter3/geography.owl#IsleOfMan'), rdflib.term.URIRef('http://www.w3.org/1999/02/22-rdf-syntax-ns#type'), rdflib.term.URIRef('http://www.workingontologist.org/Examples/Chapter3/shakespeare.owl#Place'))\n",
      "(rdflib.term.URIRef('http://www.workingontologist.org/Examples/Chapter3/biography.owl#livedIn'), rdflib.term.URIRef('http://www.w3.org/2000/01/rdf-schema#range'), rdflib.term.URIRef('http://www.workingontologist.org/Examples/Chapter3/shakespeare.owl#Place'))\n",
      "(rdflib.term.URIRef('http://www.workingontologist.org/Examples/Chapter3/geography.owl#IsleOfMan'), rdflib.term.URIRef('http://www.workingontologist.org/Examples/Chapter3/geography.owl#partOf'), rdflib.term.URIRef('http://www.workingontologist.org/Examples/Chapter3/geography.owl#UK'))\n",
      "(rdflib.term.URIRef('http://www.workingontologist.org/Examples/Chapter3/shakespeare.owl#KingLear'), rdflib.term.URIRef('http://www.w3.org/1999/02/22-rdf-syntax-ns#type'), rdflib.term.URIRef('http://www.workingontologist.org/Examples/Chapter3/shakespeare.owl#Play'))\n",
      "(rdflib.term.URIRef('http://www.workingontologist.org/Examples/Chapter3/geography.owl#Wales'), rdflib.term.URIRef('http://www.w3.org/1999/02/22-rdf-syntax-ns#type'), rdflib.term.URIRef('http://www.workingontologist.org/Examples/Chapter3/shakespeare.owl#Place'))\n",
      "(rdflib.term.URIRef('http://www.workingontologist.org/Examples/Chapter3/geography.owl#isIn'), rdflib.term.URIRef('http://www.w3.org/1999/02/22-rdf-syntax-ns#type'), rdflib.term.URIRef('http://www.w3.org/2002/07/owl#ObjectProperty'))\n",
      "(rdflib.term.URIRef('http://www.workingontologist.org/Examples/Chapter3/geography.owl#England'), rdflib.term.URIRef('http://www.workingontologist.org/Examples/Chapter3/geography.owl#partOf'), rdflib.term.URIRef('http://www.workingontologist.org/Examples/Chapter3/geography.owl#UK'))\n",
      "(rdflib.term.URIRef('http://www.workingontologist.org/Examples/Chapter3/shakespeare.owl#AnneHathaway'), rdflib.term.URIRef('http://www.w3.org/2000/01/rdf-schema#label'), rdflib.term.Literal('Anne hathaway', datatype=rdflib.term.URIRef('http://www.w3.org/2001/XMLSchema#string')))\n",
      "(rdflib.term.URIRef('http://www.workingontologist.org/Examples/Chapter3/shakespeare.owl#Macbeth'), rdflib.term.URIRef('http://www.w3.org/2000/01/rdf-schema#label'), rdflib.term.Literal('Macbeth', datatype=rdflib.term.URIRef('http://www.w3.org/2001/XMLSchema#string')))\n",
      "(rdflib.term.URIRef('http://www.workingontologist.org/Examples/Chapter3/geography.owl#partOf'), rdflib.term.URIRef('http://www.w3.org/1999/02/22-rdf-syntax-ns#type'), rdflib.term.URIRef('http://www.w3.org/2002/07/owl#ObjectProperty'))\n",
      "(rdflib.term.URIRef('http://www.workingontologist.org/Examples/Chapter3/shakespeare.owl#Othello'), rdflib.term.URIRef('http://www.w3.org/1999/02/22-rdf-syntax-ns#type'), rdflib.term.URIRef('http://www.workingontologist.org/Examples/Chapter3/shakespeare.owl#Play'))\n",
      "(rdflib.term.URIRef('http://www.workingontologist.org/Examples/Chapter3/shakespeare.owl#Hamlet'), rdflib.term.URIRef('http://www.w3.org/1999/02/22-rdf-syntax-ns#type'), rdflib.term.URIRef('http://www.workingontologist.org/Examples/Chapter3/shakespeare.owl#Play'))\n",
      "(rdflib.term.URIRef('http://www.workingontologist.org/Examples/Chapter3/biography.owl#married'), rdflib.term.URIRef('http://www.w3.org/1999/02/22-rdf-syntax-ns#type'), rdflib.term.URIRef('http://www.w3.org/2002/07/owl#ObjectProperty'))\n",
      "(rdflib.term.URIRef('http://www.workingontologist.org/Examples/Chapter3/shakespeare.owl#Play'), rdflib.term.URIRef('http://www.w3.org/1999/02/22-rdf-syntax-ns#type'), rdflib.term.URIRef('http://www.w3.org/2002/07/owl#Class'))\n",
      "(rdflib.term.URIRef('http://www.workingontologist.org/Examples/Chapter3/biography.owl#married'), rdflib.term.URIRef('http://www.w3.org/2000/01/rdf-schema#domain'), rdflib.term.URIRef('http://www.workingontologist.org/Examples/Chapter3/shakespeare.owl#Person'))\n",
      "(rdflib.term.URIRef('http://www.workingontologist.org/Examples/Chapter3/shakespeare.owl#Shakespeare'), rdflib.term.URIRef('http://www.workingontologist.org/Examples/Chapter3/biography.owl#livedIn'), rdflib.term.URIRef('http://www.workingontologist.org/Examples/Chapter3/geography.owl#Stratford'))\n",
      "(rdflib.term.URIRef('http://www.workingontologist.org/Examples/Chapter3/geography.owl#isIn'), rdflib.term.URIRef('http://www.w3.org/2000/01/rdf-schema#range'), rdflib.term.URIRef('http://www.workingontologist.org/Examples/Chapter3/shakespeare.owl#Place'))\n",
      "(rdflib.term.URIRef('http://www.workingontologist.org/Examples/Chapter3/biography.owl#married'), rdflib.term.URIRef('http://www.w3.org/2000/01/rdf-schema#range'), rdflib.term.URIRef('http://www.workingontologist.org/Examples/Chapter3/shakespeare.owl#Person'))\n",
      "(rdflib.term.URIRef('http://www.workingontologist.org/Examples/Chapter3/shakespeare.owl#MeasureForMeasure'), rdflib.term.URIRef('http://www.w3.org/1999/02/22-rdf-syntax-ns#type'), rdflib.term.URIRef('http://www.workingontologist.org/Examples/Chapter3/shakespeare.owl#Play'))\n",
      "(rdflib.term.URIRef('http://www.workingontologist.org/Examples/Chapter3/shakespeare.owl#setIn'), rdflib.term.URIRef('http://www.w3.org/2000/01/rdf-schema#label'), rdflib.term.Literal('set in', datatype=rdflib.term.URIRef('http://www.w3.org/2001/XMLSchema#string')))\n",
      "(rdflib.term.BNode('fd4dbdcb1b0b443b0b7a362b26077b309b3'), rdflib.term.URIRef('http://www.w3.org/1999/02/22-rdf-syntax-ns#first'), rdflib.term.URIRef('http://www.workingontologist.org/Examples/Chapter3/shakespeare.owl#Judith'))\n",
      "(rdflib.term.URIRef('http://www.workingontologist.org/Examples/Chapter3/geography.owl#Stratford'), rdflib.term.URIRef('http://www.workingontologist.org/Examples/Chapter3/geography.owl#isIn'), rdflib.term.URIRef('http://www.workingontologist.org/Examples/Chapter3/geography.owl#England'))\n",
      "(rdflib.term.URIRef('http://www.workingontologist.org/Examples/Chapter3/shakespeare.owl#wrote'), rdflib.term.URIRef('http://www.w3.org/1999/02/22-rdf-syntax-ns#type'), rdflib.term.URIRef('http://www.w3.org/2002/07/owl#ObjectProperty'))\n",
      "(rdflib.term.URIRef('http://www.workingontologist.org/Examples/Chapter3/geography.owl#UK'), rdflib.term.URIRef('http://www.w3.org/1999/02/22-rdf-syntax-ns#type'), rdflib.term.URIRef('http://www.workingontologist.org/Examples/Chapter3/shakespeare.owl#Place'))\n",
      "(rdflib.term.BNode('fd4dbdcb1b0b443b0b7a362b26077b309b1'), rdflib.term.URIRef('http://www.w3.org/1999/02/22-rdf-syntax-ns#first'), rdflib.term.URIRef('http://www.workingontologist.org/Examples/Chapter3/shakespeare.owl#Susanna'))\n",
      "(rdflib.term.URIRef('http://www.workingontologist.org/Examples/Chapter3/shakespeare.owl#TwelfthNight'), rdflib.term.URIRef('http://www.w3.org/1999/02/22-rdf-syntax-ns#type'), rdflib.term.URIRef('http://www.workingontologist.org/Examples/Chapter3/shakespeare.owl#Play'))\n",
      "(rdflib.term.URIRef('http://www.workingontologist.org/Examples/Chapter3/shakespeare.owl#hasChild'), rdflib.term.URIRef('http://www.w3.org/1999/02/22-rdf-syntax-ns#type'), rdflib.term.URIRef('http://www.w3.org/2002/07/owl#ObjectProperty'))\n",
      "(rdflib.term.URIRef('http://www.workingontologist.org/Examples/Chapter3/shakespeare.owl#Shakespeare'), rdflib.term.URIRef('http://www.workingontologist.org/Examples/Chapter3/shakespeare.owl#wrote'), rdflib.term.URIRef('http://www.workingontologist.org/Examples/Chapter3/shakespeare.owl#Hamlet'))\n",
      "(rdflib.term.URIRef('http://www.workingontologist.org/Examples/Chapter3/shakespeare.owl#Author'), rdflib.term.URIRef('http://www.w3.org/2000/01/rdf-schema#subClassOf'), rdflib.term.URIRef('http://www.workingontologist.org/Examples/Chapter3/shakespeare.owl#Person'))\n",
      "(rdflib.term.URIRef('http://www.workingontologist.org/Examples/Chapter3/shakespeare.owl#HenryV'), rdflib.term.URIRef('http://www.w3.org/1999/02/22-rdf-syntax-ns#type'), rdflib.term.URIRef('http://www.workingontologist.org/Examples/Chapter3/shakespeare.owl#Play'))\n",
      "(rdflib.term.URIRef('http://www.workingontologist.org/Examples/Chapter3/shakespeare.owl#Author'), rdflib.term.URIRef('http://www.w3.org/1999/02/22-rdf-syntax-ns#type'), rdflib.term.URIRef('http://www.w3.org/2002/07/owl#Class'))\n",
      "(rdflib.term.URIRef('http://www.workingontologist.org/Examples/Chapter3/geography.owl#NorthernIreland'), rdflib.term.URIRef('http://www.w3.org/1999/02/22-rdf-syntax-ns#type'), rdflib.term.URIRef('http://www.workingontologist.org/Examples/Chapter3/shakespeare.owl#Place'))\n",
      "(rdflib.term.URIRef('http://www.workingontologist.org/Examples/Chapter3/geography.owl#NorthernIreland'), rdflib.term.URIRef('http://www.workingontologist.org/Examples/Chapter3/geography.owl#partOf'), rdflib.term.URIRef('http://www.workingontologist.org/Examples/Chapter3/geography.owl#UK'))\n",
      "(rdflib.term.URIRef('http://www.workingontologist.org/Examples/Chapter3/shakespeare.owl#Susanna'), rdflib.term.URIRef('http://www.w3.org/2000/01/rdf-schema#label'), rdflib.term.Literal('Susanna', datatype=rdflib.term.URIRef('http://www.w3.org/2001/XMLSchema#string')))\n",
      "(rdflib.term.URIRef('http://www.workingontologist.org/Examples/Chapter3/biography.owl#livedIn'), rdflib.term.URIRef('http://www.w3.org/1999/02/22-rdf-syntax-ns#type'), rdflib.term.URIRef('http://www.w3.org/2002/07/owl#ObjectProperty'))\n",
      "(rdflib.term.URIRef('http://www.workingontologist.org/Examples/Chapter3/shakespeare.owl#Hamnet'), rdflib.term.URIRef('http://www.w3.org/1999/02/22-rdf-syntax-ns#type'), rdflib.term.URIRef('http://www.workingontologist.org/Examples/Chapter3/shakespeare.owl#Person'))\n",
      "(rdflib.term.URIRef('http://www.workingontologist.org/Examples/Chapter3/geography.owl#ChannelIslands'), rdflib.term.URIRef('http://www.workingontologist.org/Examples/Chapter3/geography.owl#partOf'), rdflib.term.URIRef('http://www.workingontologist.org/Examples/Chapter3/geography.owl#UK'))\n",
      "(rdflib.term.URIRef('http://www.workingontologist.org/Examples/Chapter3/shakespeare.owl#AnneHathaway'), rdflib.term.URIRef('http://www.w3.org/1999/02/22-rdf-syntax-ns#type'), rdflib.term.URIRef('http://www.workingontologist.org/Examples/Chapter3/shakespeare.owl#Person'))\n",
      "(rdflib.term.URIRef('http://www.workingontologist.org/Examples/Chapter3/geography.owl#Stratford'), rdflib.term.URIRef('http://www.w3.org/1999/02/22-rdf-syntax-ns#type'), rdflib.term.URIRef('http://www.workingontologist.org/Examples/Chapter3/shakespeare.owl#Place'))\n",
      "(rdflib.term.URIRef('http://www.workingontologist.org/Examples/Chapter3/shakespeare.owl#Macbeth'), rdflib.term.URIRef('http://www.w3.org/1999/02/22-rdf-syntax-ns#type'), rdflib.term.URIRef('http://www.workingontologist.org/Examples/Chapter3/shakespeare.owl#Play'))\n",
      "(rdflib.term.URIRef('http://www.workingontologist.org/Examples/Chapter3/geography.owl#Scotland'), rdflib.term.URIRef('http://www.w3.org/1999/02/22-rdf-syntax-ns#type'), rdflib.term.URIRef('http://www.workingontologist.org/Examples/Chapter3/shakespeare.owl#Place'))\n",
      "(rdflib.term.BNode('f7a323a26570d4d73a5e788aef3885891b3'), rdflib.term.URIRef('http://www.w3.org/1999/02/22-rdf-syntax-ns#first'), rdflib.term.URIRef('http://www.workingontologist.org/Examples/Chapter3/shakespeare.owl#Judith'))\n",
      "(rdflib.term.URIRef('http://www.workingontologist.org/Examples/Chapter3/shakespeare.owl#Place'), rdflib.term.URIRef('http://www.w3.org/1999/02/22-rdf-syntax-ns#type'), rdflib.term.URIRef('http://www.w3.org/2002/07/owl#Class'))\n",
      "(rdflib.term.URIRef('http://www.workingontologist.org/Examples/Chapter3/geography.owl#Scotland'), rdflib.term.URIRef('http://www.workingontologist.org/Examples/Chapter3/geography.owl#partOf'), rdflib.term.URIRef('http://www.workingontologist.org/Examples/Chapter3/geography.owl#UK'))\n",
      "(rdflib.term.URIRef('http://www.workingontologist.org/Examples/Chapter3/shakespeare.owl#Shakespeare'), rdflib.term.URIRef('http://www.workingontologist.org/Examples/Chapter3/shakespeare.owl#wrote'), rdflib.term.URIRef('http://www.workingontologist.org/Examples/Chapter3/shakespeare.owl#Othello'))\n",
      "(rdflib.term.URIRef('http://www.workingontologist.org/Examples/Chapter3/shakespeare.owl#KingLear'), rdflib.term.URIRef('http://www.w3.org/2000/01/rdf-schema#label'), rdflib.term.Literal('King lear', datatype=rdflib.term.URIRef('http://www.w3.org/2001/XMLSchema#string')))\n",
      "(rdflib.term.URIRef('http://www.workingontologist.org/Examples/Chapter3/shakespeare.owl#Author'), rdflib.term.URIRef('http://www.w3.org/2000/01/rdf-schema#label'), rdflib.term.Literal('Author', datatype=rdflib.term.URIRef('http://www.w3.org/2001/XMLSchema#string')))\n",
      "(rdflib.term.URIRef('http://www.workingontologist.org/Examples/Chapter3/shakespeare.owl#Shakespeare'), rdflib.term.URIRef('http://www.workingontologist.org/Examples/Chapter3/shakespeare.owl#hasChild'), rdflib.term.BNode('fd4dbdcb1b0b443b0b7a362b26077b309b1'))\n",
      "(rdflib.term.URIRef('http://www.workingontologist.org/Examples/Chapter3/shakespeare.owl#Shakespeare'), rdflib.term.URIRef('http://www.workingontologist.org/Examples/Chapter3/shakespeare.owl#wrote'), rdflib.term.URIRef('http://www.workingontologist.org/Examples/Chapter3/shakespeare.owl#TwelfthNight'))\n",
      "(rdflib.term.URIRef('http://www.workingontologist.org/Examples/Chapter3/shakespeare.owl#Shakespeare'), rdflib.term.URIRef('http://www.workingontologist.org/Examples/Chapter3/shakespeare.owl#wrote'), rdflib.term.URIRef('http://www.workingontologist.org/Examples/Chapter3/shakespeare.owl#LovesLaboursLost'))\n",
      "(rdflib.term.URIRef('http://www.workingontologist.org/Examples/Chapter3/geography.owl#Stratford'), rdflib.term.URIRef('http://www.w3.org/2000/01/rdf-schema#label'), rdflib.term.Literal('Stratford', datatype=rdflib.term.URIRef('http://www.w3.org/2001/XMLSchema#string')))\n",
      "(rdflib.term.URIRef('http://www.workingontologist.org/Examples/Chapter3/shakespeare.owl#setIn'), rdflib.term.URIRef('http://www.w3.org/2000/01/rdf-schema#domain'), rdflib.term.URIRef('http://www.workingontologist.org/Examples/Chapter3/shakespeare.owl#Play'))\n",
      "(rdflib.term.BNode('f7a323a26570d4d73a5e788aef3885891b3'), rdflib.term.URIRef('http://www.w3.org/1999/02/22-rdf-syntax-ns#rest'), rdflib.term.URIRef('http://www.w3.org/1999/02/22-rdf-syntax-ns#nil'))\n",
      "(rdflib.term.URIRef('http://www.workingontologist.org/Examples/Chapter3/shakespeare.owl#setIn'), rdflib.term.URIRef('http://www.w3.org/1999/02/22-rdf-syntax-ns#type'), rdflib.term.URIRef('http://www.w3.org/2002/07/owl#ObjectProperty'))\n",
      "(rdflib.term.URIRef('http://www.workingontologist.org/Examples/Chapter3/shakespeare.owl#Shakespeare'), rdflib.term.URIRef('http://www.workingontologist.org/Examples/Chapter3/shakespeare.owl#wrote'), rdflib.term.URIRef('http://www.workingontologist.org/Examples/Chapter3/shakespeare.owl#TheTempest'))\n",
      "(rdflib.term.URIRef('http://www.workingontologist.org/Examples/Chapter3/geography.owl#isIn'), rdflib.term.URIRef('http://www.w3.org/2000/01/rdf-schema#domain'), rdflib.term.URIRef('http://www.workingontologist.org/Examples/Chapter3/shakespeare.owl#Place'))\n",
      "(rdflib.term.URIRef('http://www.workingontologist.org/Examples/Chapter3/shakespeare.owl#Shakespeare'), rdflib.term.URIRef('http://www.workingontologist.org/Examples/Chapter3/shakespeare.owl#wrote'), rdflib.term.URIRef('http://www.workingontologist.org/Examples/Chapter3/shakespeare.owl#WintersTale'))\n",
      "(rdflib.term.URIRef('http://www.workingontologist.org/Examples/Chapter3/shakespeare.owl#WintersTale'), rdflib.term.URIRef('http://www.w3.org/1999/02/22-rdf-syntax-ns#type'), rdflib.term.URIRef('http://www.workingontologist.org/Examples/Chapter3/shakespeare.owl#Play'))\n",
      "(rdflib.term.URIRef('http://www.workingontologist.org/Examples/Chapter3/shakespeare.owl#Shakespeare'), rdflib.term.URIRef('http://www.workingontologist.org/Examples/Chapter3/shakespeare.owl#wrote'), rdflib.term.URIRef('http://www.workingontologist.org/Examples/Chapter3/shakespeare.owl#KingLear'))\n",
      "(rdflib.term.URIRef('http://www.workingontologist.org/Examples/Chapter3/shakespeare.owl#hasChild'), rdflib.term.URIRef('http://www.w3.org/2000/01/rdf-schema#label'), rdflib.term.Literal('has child', datatype=rdflib.term.URIRef('http://www.w3.org/2001/XMLSchema#string')))\n",
      "(rdflib.term.URIRef('http://www.workingontologist.org/Examples/Chapter3/geography.owl#England'), rdflib.term.URIRef('http://www.w3.org/1999/02/22-rdf-syntax-ns#type'), rdflib.term.URIRef('http://www.workingontologist.org/Examples/Chapter3/shakespeare.owl#Place'))\n",
      "(rdflib.term.URIRef('http://www.workingontologist.org/Examples/Chapter3/geography.owl#partOf'), rdflib.term.URIRef('http://www.w3.org/2000/01/rdf-schema#domain'), rdflib.term.URIRef('http://www.workingontologist.org/Examples/Chapter3/shakespeare.owl#Place'))\n",
      "(rdflib.term.URIRef('http://www.workingontologist.org/Examples/Chapter3/shakespeare.owl#Shakespeare'), rdflib.term.URIRef('http://www.workingontologist.org/Examples/Chapter3/shakespeare.owl#wrote'), rdflib.term.URIRef('http://www.workingontologist.org/Examples/Chapter3/shakespeare.owl#Macbeth'))\n",
      "(rdflib.term.URIRef('http://www.workingontologist.org/Examples/Chapter3/shakespeare.owl#Judith'), rdflib.term.URIRef('http://www.w3.org/2000/01/rdf-schema#label'), rdflib.term.Literal('Judith', datatype=rdflib.term.URIRef('http://www.w3.org/2001/XMLSchema#string')))\n",
      "(rdflib.term.URIRef('http://www.workingontologist.org/Examples/Chapter3/shakespeare.owl#Macbeth'), rdflib.term.URIRef('http://www.workingontologist.org/Examples/Chapter3/shakespeare.owl#setIn'), rdflib.term.URIRef('http://www.workingontologist.org/Examples/Chapter3/geography.owl#Scotland'))\n",
      "(rdflib.term.URIRef('http://www.workingontologist.org/Examples/Chapter3/shakespeare.owl'), rdflib.term.URIRef('http://www.w3.org/2002/07/owl#versionInfo'), rdflib.term.Literal('Created with TopBraid Composer', datatype=rdflib.term.URIRef('http://www.w3.org/2001/XMLSchema#string')))\n",
      "(rdflib.term.URIRef('http://www.workingontologist.org/Examples/Chapter3/shakespeare.owl#wrote'), rdflib.term.URIRef('http://www.w3.org/2000/01/rdf-schema#domain'), rdflib.term.URIRef('http://www.workingontologist.org/Examples/Chapter3/shakespeare.owl#Author'))\n",
      "(rdflib.term.URIRef('http://www.workingontologist.org/Examples/Chapter3/geography.owl#partOf'), rdflib.term.URIRef('http://www.w3.org/2000/01/rdf-schema#range'), rdflib.term.URIRef('http://www.workingontologist.org/Examples/Chapter3/shakespeare.owl#Place'))\n",
      "(rdflib.term.BNode('fd4dbdcb1b0b443b0b7a362b26077b309b2'), rdflib.term.URIRef('http://www.w3.org/1999/02/22-rdf-syntax-ns#rest'), rdflib.term.BNode('fd4dbdcb1b0b443b0b7a362b26077b309b3'))\n",
      "(rdflib.term.URIRef('http://www.workingontologist.org/Examples/Chapter3/shakespeare.owl#setIn'), rdflib.term.URIRef('http://www.w3.org/2000/01/rdf-schema#range'), rdflib.term.URIRef('http://www.workingontologist.org/Examples/Chapter3/shakespeare.owl#Place'))\n",
      "(rdflib.term.URIRef('http://www.workingontologist.org/Examples/Chapter3/shakespeare.owl#TheTempest'), rdflib.term.URIRef('http://www.w3.org/1999/02/22-rdf-syntax-ns#type'), rdflib.term.URIRef('http://www.workingontologist.org/Examples/Chapter3/shakespeare.owl#Play'))\n",
      "(rdflib.term.BNode('fd4dbdcb1b0b443b0b7a362b26077b309b1'), rdflib.term.URIRef('http://www.w3.org/1999/02/22-rdf-syntax-ns#rest'), rdflib.term.BNode('fd4dbdcb1b0b443b0b7a362b26077b309b2'))\n",
      "(rdflib.term.URIRef('http://www.workingontologist.org/Examples/Chapter3/geography.owl#England'), rdflib.term.URIRef('http://www.w3.org/2000/01/rdf-schema#label'), rdflib.term.Literal('England', datatype=rdflib.term.URIRef('http://www.w3.org/2001/XMLSchema#string')))\n",
      "(rdflib.term.URIRef('http://www.workingontologist.org/Examples/Chapter3/geography.owl#partOf'), rdflib.term.URIRef('http://www.w3.org/2000/01/rdf-schema#label'), rdflib.term.Literal('part of', datatype=rdflib.term.URIRef('http://www.w3.org/2001/XMLSchema#string')))\n",
      "(rdflib.term.URIRef('http://www.workingontologist.org/Examples/Chapter3/shakespeare.owl#wrote'), rdflib.term.URIRef('http://www.w3.org/2000/01/rdf-schema#range'), rdflib.term.URIRef('http://www.workingontologist.org/Examples/Chapter3/shakespeare.owl#Play'))\n",
      "(rdflib.term.BNode('f7a323a26570d4d73a5e788aef3885891b2'), rdflib.term.URIRef('http://www.w3.org/1999/02/22-rdf-syntax-ns#first'), rdflib.term.URIRef('http://www.workingontologist.org/Examples/Chapter3/shakespeare.owl#Hamnet'))\n",
      "(rdflib.term.URIRef('http://www.workingontologist.org/Examples/Chapter3/shakespeare.owl#AnneHathaway'), rdflib.term.URIRef('http://www.workingontologist.org/Examples/Chapter3/shakespeare.owl#hasChild'), rdflib.term.Literal('[lit:Judith, lit:Hamnet, lit:Susanna]'))\n",
      "(rdflib.term.URIRef('http://www.workingontologist.org/Examples/Chapter3/shakespeare.owl#Hamnet'), rdflib.term.URIRef('http://www.w3.org/2000/01/rdf-schema#label'), rdflib.term.Literal('Hamnet', datatype=rdflib.term.URIRef('http://www.w3.org/2001/XMLSchema#string')))\n",
      "(rdflib.term.URIRef('http://www.workingontologist.org/Examples/Chapter3/shakespeare.owl#Person'), rdflib.term.URIRef('http://www.w3.org/2000/01/rdf-schema#label'), rdflib.term.Literal('Person', datatype=rdflib.term.URIRef('http://www.w3.org/2001/XMLSchema#string')))\n",
      "(rdflib.term.URIRef('http://www.workingontologist.org/Examples/Chapter3/shakespeare.owl#Shakespeare'), rdflib.term.URIRef('http://www.workingontologist.org/Examples/Chapter3/shakespeare.owl#hasChild'), rdflib.term.BNode('f7a323a26570d4d73a5e788aef3885891b1'))\n",
      "(rdflib.term.URIRef('http://www.workingontologist.org/Examples/Chapter3/biography.owl#livedIn'), rdflib.term.URIRef('http://www.w3.org/2000/01/rdf-schema#domain'), rdflib.term.URIRef('http://www.workingontologist.org/Examples/Chapter3/shakespeare.owl#Person'))\n",
      "(rdflib.term.BNode('f7a323a26570d4d73a5e788aef3885891b2'), rdflib.term.URIRef('http://www.w3.org/1999/02/22-rdf-syntax-ns#rest'), rdflib.term.BNode('f7a323a26570d4d73a5e788aef3885891b3'))\n",
      "(rdflib.term.URIRef('http://www.workingontologist.org/Examples/Chapter3/shakespeare.owl#Shakespeare'), rdflib.term.URIRef('http://www.w3.org/1999/02/22-rdf-syntax-ns#type'), rdflib.term.URIRef('http://www.workingontologist.org/Examples/Chapter3/shakespeare.owl#Author'))\n"
     ]
    }
   ],
   "source": [
    "for st in g:\n",
    "  print(st)"
   ]
  },
  {
   "cell_type": "markdown",
   "metadata": {
    "id": "Am7AVwpelz6X"
   },
   "source": [
    "We can also use *destructuring* to unpack the subject, predicate, and object automatically in the loop:"
   ]
  },
  {
   "cell_type": "code",
   "execution_count": null,
   "metadata": {
    "colab": {
     "base_uri": "https://localhost:8080/"
    },
    "id": "xAlzcaU6lz6X",
    "outputId": "f9b0eb13-5ca8-4286-81dd-aa6fdc0f73f4"
   },
   "outputs": [
    {
     "name": "stdout",
     "output_type": "stream",
     "text": [
      "subject: http://www.workingontologist.org/Examples/Chapter3/geography.owl#Scotland\n",
      "predicate: http://www.w3.org/2000/01/rdf-schema#label\n",
      "object is: Scotland\n",
      "subject: http://www.workingontologist.org/Examples/Chapter3/shakespeare.owl#AnneHathaway\n",
      "predicate: http://www.workingontologist.org/Examples/Chapter3/biography.owl#married\n",
      "object is: http://www.workingontologist.org/Examples/Chapter3/shakespeare.owl#Shakespeare\n",
      "subject: http://www.workingontologist.org/Examples/Chapter3/shakespeare.owl#Shakespeare\n",
      "predicate: http://www.workingontologist.org/Examples/Chapter3/shakespeare.owl#wrote\n",
      "object is: http://www.workingontologist.org/Examples/Chapter3/shakespeare.owl#AsYouLikeIt\n",
      "subject: http://www.workingontologist.org/Examples/Chapter3/biography.owl#married\n",
      "predicate: http://www.w3.org/2000/01/rdf-schema#label\n",
      "object is: married\n",
      "subject: http://www.workingontologist.org/Examples/Chapter3/geography.owl#ChannelIslands\n",
      "predicate: http://www.w3.org/1999/02/22-rdf-syntax-ns#type\n",
      "object is: http://www.workingontologist.org/Examples/Chapter3/shakespeare.owl#Place\n",
      "subject: http://www.workingontologist.org/Examples/Chapter3/shakespeare.owl\n",
      "predicate: http://www.w3.org/1999/02/22-rdf-syntax-ns#type\n",
      "object is: http://www.w3.org/2002/07/owl#Ontology\n",
      "subject: fd4dbdcb1b0b443b0b7a362b26077b309b2\n",
      "predicate: http://www.w3.org/1999/02/22-rdf-syntax-ns#first\n",
      "object is: http://www.workingontologist.org/Examples/Chapter3/shakespeare.owl#Hamnet\n",
      "subject: http://www.workingontologist.org/Examples/Chapter3/shakespeare.owl#Shakespeare\n",
      "predicate: http://www.workingontologist.org/Examples/Chapter3/shakespeare.owl#wrote\n",
      "object is: http://www.workingontologist.org/Examples/Chapter3/shakespeare.owl#HenryV\n",
      "subject: http://www.workingontologist.org/Examples/Chapter3/shakespeare.owl#Person\n",
      "predicate: http://www.w3.org/1999/02/22-rdf-syntax-ns#type\n",
      "object is: http://www.w3.org/2002/07/owl#Class\n",
      "subject: http://www.workingontologist.org/Examples/Chapter3/biography.owl#livedIn\n",
      "predicate: http://www.w3.org/2000/01/rdf-schema#label\n",
      "object is: lived in\n",
      "subject: http://www.workingontologist.org/Examples/Chapter3/shakespeare.owl#Place\n",
      "predicate: http://www.w3.org/2000/01/rdf-schema#label\n",
      "object is: Place\n",
      "subject: http://www.workingontologist.org/Examples/Chapter3/shakespeare.owl#wrote\n",
      "predicate: http://www.w3.org/2000/01/rdf-schema#label\n",
      "object is: wrote\n",
      "subject: http://www.workingontologist.org/Examples/Chapter3/shakespeare.owl#Shakespeare\n",
      "predicate: http://www.workingontologist.org/Examples/Chapter3/shakespeare.owl#wrote\n",
      "object is: http://www.workingontologist.org/Examples/Chapter3/shakespeare.owl#MeasureForMeasure\n",
      "subject: http://www.workingontologist.org/Examples/Chapter3/shakespeare.owl#LovesLaboursLost\n",
      "predicate: http://www.w3.org/1999/02/22-rdf-syntax-ns#type\n",
      "object is: http://www.workingontologist.org/Examples/Chapter3/shakespeare.owl#Play\n",
      "subject: http://www.workingontologist.org/Examples/Chapter3/geography.owl#isIn\n",
      "predicate: http://www.w3.org/2000/01/rdf-schema#label\n",
      "object is: is in\n",
      "subject: http://www.workingontologist.org/Examples/Chapter3/shakespeare.owl#Susanna\n",
      "predicate: http://www.w3.org/1999/02/22-rdf-syntax-ns#type\n",
      "object is: http://www.workingontologist.org/Examples/Chapter3/shakespeare.owl#Person\n",
      "subject: f7a323a26570d4d73a5e788aef3885891b1\n",
      "predicate: http://www.w3.org/1999/02/22-rdf-syntax-ns#rest\n",
      "object is: f7a323a26570d4d73a5e788aef3885891b2\n",
      "subject: http://www.workingontologist.org/Examples/Chapter3/shakespeare.owl#Shakespeare\n",
      "predicate: http://www.w3.org/2000/01/rdf-schema#label\n",
      "object is: Shakespeare\n",
      "subject: http://www.workingontologist.org/Examples/Chapter3/geography.owl#UK\n",
      "predicate: http://www.w3.org/2000/01/rdf-schema#label\n",
      "object is: UK\n",
      "subject: http://www.workingontologist.org/Examples/Chapter3/shakespeare.owl#AsYouLikeIt\n",
      "predicate: http://www.w3.org/1999/02/22-rdf-syntax-ns#type\n",
      "object is: http://www.workingontologist.org/Examples/Chapter3/shakespeare.owl#Play\n",
      "subject: fd4dbdcb1b0b443b0b7a362b26077b309b3\n",
      "predicate: http://www.w3.org/1999/02/22-rdf-syntax-ns#rest\n",
      "object is: http://www.w3.org/1999/02/22-rdf-syntax-ns#nil\n",
      "subject: http://www.workingontologist.org/Examples/Chapter3/shakespeare.owl#Play\n",
      "predicate: http://www.w3.org/2000/01/rdf-schema#label\n",
      "object is: Play\n",
      "subject: http://www.workingontologist.org/Examples/Chapter3/geography.owl#Wales\n",
      "predicate: http://www.workingontologist.org/Examples/Chapter3/geography.owl#partOf\n",
      "object is: http://www.workingontologist.org/Examples/Chapter3/geography.owl#UK\n",
      "subject: f7a323a26570d4d73a5e788aef3885891b1\n",
      "predicate: http://www.w3.org/1999/02/22-rdf-syntax-ns#first\n",
      "object is: http://www.workingontologist.org/Examples/Chapter3/shakespeare.owl#Susanna\n",
      "subject: http://www.workingontologist.org/Examples/Chapter3/shakespeare.owl#Judith\n",
      "predicate: http://www.w3.org/1999/02/22-rdf-syntax-ns#type\n",
      "object is: http://www.workingontologist.org/Examples/Chapter3/shakespeare.owl#Person\n",
      "subject: http://www.workingontologist.org/Examples/Chapter3/geography.owl#IsleOfMan\n",
      "predicate: http://www.w3.org/1999/02/22-rdf-syntax-ns#type\n",
      "object is: http://www.workingontologist.org/Examples/Chapter3/shakespeare.owl#Place\n",
      "subject: http://www.workingontologist.org/Examples/Chapter3/biography.owl#livedIn\n",
      "predicate: http://www.w3.org/2000/01/rdf-schema#range\n",
      "object is: http://www.workingontologist.org/Examples/Chapter3/shakespeare.owl#Place\n",
      "subject: http://www.workingontologist.org/Examples/Chapter3/geography.owl#IsleOfMan\n",
      "predicate: http://www.workingontologist.org/Examples/Chapter3/geography.owl#partOf\n",
      "object is: http://www.workingontologist.org/Examples/Chapter3/geography.owl#UK\n",
      "subject: http://www.workingontologist.org/Examples/Chapter3/shakespeare.owl#KingLear\n",
      "predicate: http://www.w3.org/1999/02/22-rdf-syntax-ns#type\n",
      "object is: http://www.workingontologist.org/Examples/Chapter3/shakespeare.owl#Play\n",
      "subject: http://www.workingontologist.org/Examples/Chapter3/geography.owl#Wales\n",
      "predicate: http://www.w3.org/1999/02/22-rdf-syntax-ns#type\n",
      "object is: http://www.workingontologist.org/Examples/Chapter3/shakespeare.owl#Place\n",
      "subject: http://www.workingontologist.org/Examples/Chapter3/geography.owl#isIn\n",
      "predicate: http://www.w3.org/1999/02/22-rdf-syntax-ns#type\n",
      "object is: http://www.w3.org/2002/07/owl#ObjectProperty\n",
      "subject: http://www.workingontologist.org/Examples/Chapter3/geography.owl#England\n",
      "predicate: http://www.workingontologist.org/Examples/Chapter3/geography.owl#partOf\n",
      "object is: http://www.workingontologist.org/Examples/Chapter3/geography.owl#UK\n",
      "subject: http://www.workingontologist.org/Examples/Chapter3/shakespeare.owl#AnneHathaway\n",
      "predicate: http://www.w3.org/2000/01/rdf-schema#label\n",
      "object is: Anne hathaway\n",
      "subject: http://www.workingontologist.org/Examples/Chapter3/shakespeare.owl#Macbeth\n",
      "predicate: http://www.w3.org/2000/01/rdf-schema#label\n",
      "object is: Macbeth\n",
      "subject: http://www.workingontologist.org/Examples/Chapter3/geography.owl#partOf\n",
      "predicate: http://www.w3.org/1999/02/22-rdf-syntax-ns#type\n",
      "object is: http://www.w3.org/2002/07/owl#ObjectProperty\n",
      "subject: http://www.workingontologist.org/Examples/Chapter3/shakespeare.owl#Othello\n",
      "predicate: http://www.w3.org/1999/02/22-rdf-syntax-ns#type\n",
      "object is: http://www.workingontologist.org/Examples/Chapter3/shakespeare.owl#Play\n",
      "subject: http://www.workingontologist.org/Examples/Chapter3/shakespeare.owl#Hamlet\n",
      "predicate: http://www.w3.org/1999/02/22-rdf-syntax-ns#type\n",
      "object is: http://www.workingontologist.org/Examples/Chapter3/shakespeare.owl#Play\n",
      "subject: http://www.workingontologist.org/Examples/Chapter3/biography.owl#married\n",
      "predicate: http://www.w3.org/1999/02/22-rdf-syntax-ns#type\n",
      "object is: http://www.w3.org/2002/07/owl#ObjectProperty\n",
      "subject: http://www.workingontologist.org/Examples/Chapter3/shakespeare.owl#Play\n",
      "predicate: http://www.w3.org/1999/02/22-rdf-syntax-ns#type\n",
      "object is: http://www.w3.org/2002/07/owl#Class\n",
      "subject: http://www.workingontologist.org/Examples/Chapter3/biography.owl#married\n",
      "predicate: http://www.w3.org/2000/01/rdf-schema#domain\n",
      "object is: http://www.workingontologist.org/Examples/Chapter3/shakespeare.owl#Person\n",
      "subject: http://www.workingontologist.org/Examples/Chapter3/shakespeare.owl#Shakespeare\n",
      "predicate: http://www.workingontologist.org/Examples/Chapter3/biography.owl#livedIn\n",
      "object is: http://www.workingontologist.org/Examples/Chapter3/geography.owl#Stratford\n",
      "subject: http://www.workingontologist.org/Examples/Chapter3/geography.owl#isIn\n",
      "predicate: http://www.w3.org/2000/01/rdf-schema#range\n",
      "object is: http://www.workingontologist.org/Examples/Chapter3/shakespeare.owl#Place\n",
      "subject: http://www.workingontologist.org/Examples/Chapter3/biography.owl#married\n",
      "predicate: http://www.w3.org/2000/01/rdf-schema#range\n",
      "object is: http://www.workingontologist.org/Examples/Chapter3/shakespeare.owl#Person\n",
      "subject: http://www.workingontologist.org/Examples/Chapter3/shakespeare.owl#MeasureForMeasure\n",
      "predicate: http://www.w3.org/1999/02/22-rdf-syntax-ns#type\n",
      "object is: http://www.workingontologist.org/Examples/Chapter3/shakespeare.owl#Play\n",
      "subject: http://www.workingontologist.org/Examples/Chapter3/shakespeare.owl#setIn\n",
      "predicate: http://www.w3.org/2000/01/rdf-schema#label\n",
      "object is: set in\n",
      "subject: fd4dbdcb1b0b443b0b7a362b26077b309b3\n",
      "predicate: http://www.w3.org/1999/02/22-rdf-syntax-ns#first\n",
      "object is: http://www.workingontologist.org/Examples/Chapter3/shakespeare.owl#Judith\n",
      "subject: http://www.workingontologist.org/Examples/Chapter3/geography.owl#Stratford\n",
      "predicate: http://www.workingontologist.org/Examples/Chapter3/geography.owl#isIn\n",
      "object is: http://www.workingontologist.org/Examples/Chapter3/geography.owl#England\n",
      "subject: http://www.workingontologist.org/Examples/Chapter3/shakespeare.owl#wrote\n",
      "predicate: http://www.w3.org/1999/02/22-rdf-syntax-ns#type\n",
      "object is: http://www.w3.org/2002/07/owl#ObjectProperty\n",
      "subject: http://www.workingontologist.org/Examples/Chapter3/geography.owl#UK\n",
      "predicate: http://www.w3.org/1999/02/22-rdf-syntax-ns#type\n",
      "object is: http://www.workingontologist.org/Examples/Chapter3/shakespeare.owl#Place\n",
      "subject: fd4dbdcb1b0b443b0b7a362b26077b309b1\n",
      "predicate: http://www.w3.org/1999/02/22-rdf-syntax-ns#first\n",
      "object is: http://www.workingontologist.org/Examples/Chapter3/shakespeare.owl#Susanna\n",
      "subject: http://www.workingontologist.org/Examples/Chapter3/shakespeare.owl#TwelfthNight\n",
      "predicate: http://www.w3.org/1999/02/22-rdf-syntax-ns#type\n",
      "object is: http://www.workingontologist.org/Examples/Chapter3/shakespeare.owl#Play\n",
      "subject: http://www.workingontologist.org/Examples/Chapter3/shakespeare.owl#hasChild\n",
      "predicate: http://www.w3.org/1999/02/22-rdf-syntax-ns#type\n",
      "object is: http://www.w3.org/2002/07/owl#ObjectProperty\n",
      "subject: http://www.workingontologist.org/Examples/Chapter3/shakespeare.owl#Shakespeare\n",
      "predicate: http://www.workingontologist.org/Examples/Chapter3/shakespeare.owl#wrote\n",
      "object is: http://www.workingontologist.org/Examples/Chapter3/shakespeare.owl#Hamlet\n",
      "subject: http://www.workingontologist.org/Examples/Chapter3/shakespeare.owl#Author\n",
      "predicate: http://www.w3.org/2000/01/rdf-schema#subClassOf\n",
      "object is: http://www.workingontologist.org/Examples/Chapter3/shakespeare.owl#Person\n",
      "subject: http://www.workingontologist.org/Examples/Chapter3/shakespeare.owl#HenryV\n",
      "predicate: http://www.w3.org/1999/02/22-rdf-syntax-ns#type\n",
      "object is: http://www.workingontologist.org/Examples/Chapter3/shakespeare.owl#Play\n",
      "subject: http://www.workingontologist.org/Examples/Chapter3/shakespeare.owl#Author\n",
      "predicate: http://www.w3.org/1999/02/22-rdf-syntax-ns#type\n",
      "object is: http://www.w3.org/2002/07/owl#Class\n",
      "subject: http://www.workingontologist.org/Examples/Chapter3/geography.owl#NorthernIreland\n",
      "predicate: http://www.w3.org/1999/02/22-rdf-syntax-ns#type\n",
      "object is: http://www.workingontologist.org/Examples/Chapter3/shakespeare.owl#Place\n",
      "subject: http://www.workingontologist.org/Examples/Chapter3/geography.owl#NorthernIreland\n",
      "predicate: http://www.workingontologist.org/Examples/Chapter3/geography.owl#partOf\n",
      "object is: http://www.workingontologist.org/Examples/Chapter3/geography.owl#UK\n",
      "subject: http://www.workingontologist.org/Examples/Chapter3/shakespeare.owl#Susanna\n",
      "predicate: http://www.w3.org/2000/01/rdf-schema#label\n",
      "object is: Susanna\n",
      "subject: http://www.workingontologist.org/Examples/Chapter3/biography.owl#livedIn\n",
      "predicate: http://www.w3.org/1999/02/22-rdf-syntax-ns#type\n",
      "object is: http://www.w3.org/2002/07/owl#ObjectProperty\n",
      "subject: http://www.workingontologist.org/Examples/Chapter3/shakespeare.owl#Hamnet\n",
      "predicate: http://www.w3.org/1999/02/22-rdf-syntax-ns#type\n",
      "object is: http://www.workingontologist.org/Examples/Chapter3/shakespeare.owl#Person\n",
      "subject: http://www.workingontologist.org/Examples/Chapter3/geography.owl#ChannelIslands\n",
      "predicate: http://www.workingontologist.org/Examples/Chapter3/geography.owl#partOf\n",
      "object is: http://www.workingontologist.org/Examples/Chapter3/geography.owl#UK\n",
      "subject: http://www.workingontologist.org/Examples/Chapter3/shakespeare.owl#AnneHathaway\n",
      "predicate: http://www.w3.org/1999/02/22-rdf-syntax-ns#type\n",
      "object is: http://www.workingontologist.org/Examples/Chapter3/shakespeare.owl#Person\n",
      "subject: http://www.workingontologist.org/Examples/Chapter3/geography.owl#Stratford\n",
      "predicate: http://www.w3.org/1999/02/22-rdf-syntax-ns#type\n",
      "object is: http://www.workingontologist.org/Examples/Chapter3/shakespeare.owl#Place\n",
      "subject: http://www.workingontologist.org/Examples/Chapter3/shakespeare.owl#Macbeth\n",
      "predicate: http://www.w3.org/1999/02/22-rdf-syntax-ns#type\n",
      "object is: http://www.workingontologist.org/Examples/Chapter3/shakespeare.owl#Play\n",
      "subject: http://www.workingontologist.org/Examples/Chapter3/geography.owl#Scotland\n",
      "predicate: http://www.w3.org/1999/02/22-rdf-syntax-ns#type\n",
      "object is: http://www.workingontologist.org/Examples/Chapter3/shakespeare.owl#Place\n",
      "subject: f7a323a26570d4d73a5e788aef3885891b3\n",
      "predicate: http://www.w3.org/1999/02/22-rdf-syntax-ns#first\n",
      "object is: http://www.workingontologist.org/Examples/Chapter3/shakespeare.owl#Judith\n",
      "subject: http://www.workingontologist.org/Examples/Chapter3/shakespeare.owl#Place\n",
      "predicate: http://www.w3.org/1999/02/22-rdf-syntax-ns#type\n",
      "object is: http://www.w3.org/2002/07/owl#Class\n",
      "subject: http://www.workingontologist.org/Examples/Chapter3/geography.owl#Scotland\n",
      "predicate: http://www.workingontologist.org/Examples/Chapter3/geography.owl#partOf\n",
      "object is: http://www.workingontologist.org/Examples/Chapter3/geography.owl#UK\n",
      "subject: http://www.workingontologist.org/Examples/Chapter3/shakespeare.owl#Shakespeare\n",
      "predicate: http://www.workingontologist.org/Examples/Chapter3/shakespeare.owl#wrote\n",
      "object is: http://www.workingontologist.org/Examples/Chapter3/shakespeare.owl#Othello\n",
      "subject: http://www.workingontologist.org/Examples/Chapter3/shakespeare.owl#KingLear\n",
      "predicate: http://www.w3.org/2000/01/rdf-schema#label\n",
      "object is: King lear\n",
      "subject: http://www.workingontologist.org/Examples/Chapter3/shakespeare.owl#Author\n",
      "predicate: http://www.w3.org/2000/01/rdf-schema#label\n",
      "object is: Author\n",
      "subject: http://www.workingontologist.org/Examples/Chapter3/shakespeare.owl#Shakespeare\n",
      "predicate: http://www.workingontologist.org/Examples/Chapter3/shakespeare.owl#hasChild\n",
      "object is: fd4dbdcb1b0b443b0b7a362b26077b309b1\n",
      "subject: http://www.workingontologist.org/Examples/Chapter3/shakespeare.owl#Shakespeare\n",
      "predicate: http://www.workingontologist.org/Examples/Chapter3/shakespeare.owl#wrote\n",
      "object is: http://www.workingontologist.org/Examples/Chapter3/shakespeare.owl#TwelfthNight\n",
      "subject: http://www.workingontologist.org/Examples/Chapter3/shakespeare.owl#Shakespeare\n",
      "predicate: http://www.workingontologist.org/Examples/Chapter3/shakespeare.owl#wrote\n",
      "object is: http://www.workingontologist.org/Examples/Chapter3/shakespeare.owl#LovesLaboursLost\n",
      "subject: http://www.workingontologist.org/Examples/Chapter3/geography.owl#Stratford\n",
      "predicate: http://www.w3.org/2000/01/rdf-schema#label\n",
      "object is: Stratford\n",
      "subject: http://www.workingontologist.org/Examples/Chapter3/shakespeare.owl#setIn\n",
      "predicate: http://www.w3.org/2000/01/rdf-schema#domain\n",
      "object is: http://www.workingontologist.org/Examples/Chapter3/shakespeare.owl#Play\n",
      "subject: f7a323a26570d4d73a5e788aef3885891b3\n",
      "predicate: http://www.w3.org/1999/02/22-rdf-syntax-ns#rest\n",
      "object is: http://www.w3.org/1999/02/22-rdf-syntax-ns#nil\n",
      "subject: http://www.workingontologist.org/Examples/Chapter3/shakespeare.owl#setIn\n",
      "predicate: http://www.w3.org/1999/02/22-rdf-syntax-ns#type\n",
      "object is: http://www.w3.org/2002/07/owl#ObjectProperty\n",
      "subject: http://www.workingontologist.org/Examples/Chapter3/shakespeare.owl#Shakespeare\n",
      "predicate: http://www.workingontologist.org/Examples/Chapter3/shakespeare.owl#wrote\n",
      "object is: http://www.workingontologist.org/Examples/Chapter3/shakespeare.owl#TheTempest\n",
      "subject: http://www.workingontologist.org/Examples/Chapter3/geography.owl#isIn\n",
      "predicate: http://www.w3.org/2000/01/rdf-schema#domain\n",
      "object is: http://www.workingontologist.org/Examples/Chapter3/shakespeare.owl#Place\n",
      "subject: http://www.workingontologist.org/Examples/Chapter3/shakespeare.owl#Shakespeare\n",
      "predicate: http://www.workingontologist.org/Examples/Chapter3/shakespeare.owl#wrote\n",
      "object is: http://www.workingontologist.org/Examples/Chapter3/shakespeare.owl#WintersTale\n",
      "subject: http://www.workingontologist.org/Examples/Chapter3/shakespeare.owl#WintersTale\n",
      "predicate: http://www.w3.org/1999/02/22-rdf-syntax-ns#type\n",
      "object is: http://www.workingontologist.org/Examples/Chapter3/shakespeare.owl#Play\n",
      "subject: http://www.workingontologist.org/Examples/Chapter3/shakespeare.owl#Shakespeare\n",
      "predicate: http://www.workingontologist.org/Examples/Chapter3/shakespeare.owl#wrote\n",
      "object is: http://www.workingontologist.org/Examples/Chapter3/shakespeare.owl#KingLear\n",
      "subject: http://www.workingontologist.org/Examples/Chapter3/shakespeare.owl#hasChild\n",
      "predicate: http://www.w3.org/2000/01/rdf-schema#label\n",
      "object is: has child\n",
      "subject: http://www.workingontologist.org/Examples/Chapter3/geography.owl#England\n",
      "predicate: http://www.w3.org/1999/02/22-rdf-syntax-ns#type\n",
      "object is: http://www.workingontologist.org/Examples/Chapter3/shakespeare.owl#Place\n",
      "subject: http://www.workingontologist.org/Examples/Chapter3/geography.owl#partOf\n",
      "predicate: http://www.w3.org/2000/01/rdf-schema#domain\n",
      "object is: http://www.workingontologist.org/Examples/Chapter3/shakespeare.owl#Place\n",
      "subject: http://www.workingontologist.org/Examples/Chapter3/shakespeare.owl#Shakespeare\n",
      "predicate: http://www.workingontologist.org/Examples/Chapter3/shakespeare.owl#wrote\n",
      "object is: http://www.workingontologist.org/Examples/Chapter3/shakespeare.owl#Macbeth\n",
      "subject: http://www.workingontologist.org/Examples/Chapter3/shakespeare.owl#Judith\n",
      "predicate: http://www.w3.org/2000/01/rdf-schema#label\n",
      "object is: Judith\n",
      "subject: http://www.workingontologist.org/Examples/Chapter3/shakespeare.owl#Macbeth\n",
      "predicate: http://www.workingontologist.org/Examples/Chapter3/shakespeare.owl#setIn\n",
      "object is: http://www.workingontologist.org/Examples/Chapter3/geography.owl#Scotland\n",
      "subject: http://www.workingontologist.org/Examples/Chapter3/shakespeare.owl\n",
      "predicate: http://www.w3.org/2002/07/owl#versionInfo\n",
      "object is: Created with TopBraid Composer\n",
      "subject: http://www.workingontologist.org/Examples/Chapter3/shakespeare.owl#wrote\n",
      "predicate: http://www.w3.org/2000/01/rdf-schema#domain\n",
      "object is: http://www.workingontologist.org/Examples/Chapter3/shakespeare.owl#Author\n",
      "subject: http://www.workingontologist.org/Examples/Chapter3/geography.owl#partOf\n",
      "predicate: http://www.w3.org/2000/01/rdf-schema#range\n",
      "object is: http://www.workingontologist.org/Examples/Chapter3/shakespeare.owl#Place\n",
      "subject: fd4dbdcb1b0b443b0b7a362b26077b309b2\n",
      "predicate: http://www.w3.org/1999/02/22-rdf-syntax-ns#rest\n",
      "object is: fd4dbdcb1b0b443b0b7a362b26077b309b3\n",
      "subject: http://www.workingontologist.org/Examples/Chapter3/shakespeare.owl#setIn\n",
      "predicate: http://www.w3.org/2000/01/rdf-schema#range\n",
      "object is: http://www.workingontologist.org/Examples/Chapter3/shakespeare.owl#Place\n",
      "subject: http://www.workingontologist.org/Examples/Chapter3/shakespeare.owl#TheTempest\n",
      "predicate: http://www.w3.org/1999/02/22-rdf-syntax-ns#type\n",
      "object is: http://www.workingontologist.org/Examples/Chapter3/shakespeare.owl#Play\n",
      "subject: fd4dbdcb1b0b443b0b7a362b26077b309b1\n",
      "predicate: http://www.w3.org/1999/02/22-rdf-syntax-ns#rest\n",
      "object is: fd4dbdcb1b0b443b0b7a362b26077b309b2\n",
      "subject: http://www.workingontologist.org/Examples/Chapter3/geography.owl#England\n",
      "predicate: http://www.w3.org/2000/01/rdf-schema#label\n",
      "object is: England\n",
      "subject: http://www.workingontologist.org/Examples/Chapter3/geography.owl#partOf\n",
      "predicate: http://www.w3.org/2000/01/rdf-schema#label\n",
      "object is: part of\n",
      "subject: http://www.workingontologist.org/Examples/Chapter3/shakespeare.owl#wrote\n",
      "predicate: http://www.w3.org/2000/01/rdf-schema#range\n",
      "object is: http://www.workingontologist.org/Examples/Chapter3/shakespeare.owl#Play\n",
      "subject: f7a323a26570d4d73a5e788aef3885891b2\n",
      "predicate: http://www.w3.org/1999/02/22-rdf-syntax-ns#first\n",
      "object is: http://www.workingontologist.org/Examples/Chapter3/shakespeare.owl#Hamnet\n",
      "subject: http://www.workingontologist.org/Examples/Chapter3/shakespeare.owl#AnneHathaway\n",
      "predicate: http://www.workingontologist.org/Examples/Chapter3/shakespeare.owl#hasChild\n",
      "object is: [lit:Judith, lit:Hamnet, lit:Susanna]\n",
      "subject: http://www.workingontologist.org/Examples/Chapter3/shakespeare.owl#Hamnet\n",
      "predicate: http://www.w3.org/2000/01/rdf-schema#label\n",
      "object is: Hamnet\n",
      "subject: http://www.workingontologist.org/Examples/Chapter3/shakespeare.owl#Person\n",
      "predicate: http://www.w3.org/2000/01/rdf-schema#label\n",
      "object is: Person\n",
      "subject: http://www.workingontologist.org/Examples/Chapter3/shakespeare.owl#Shakespeare\n",
      "predicate: http://www.workingontologist.org/Examples/Chapter3/shakespeare.owl#hasChild\n",
      "object is: f7a323a26570d4d73a5e788aef3885891b1\n",
      "subject: http://www.workingontologist.org/Examples/Chapter3/biography.owl#livedIn\n",
      "predicate: http://www.w3.org/2000/01/rdf-schema#domain\n",
      "object is: http://www.workingontologist.org/Examples/Chapter3/shakespeare.owl#Person\n",
      "subject: f7a323a26570d4d73a5e788aef3885891b2\n",
      "predicate: http://www.w3.org/1999/02/22-rdf-syntax-ns#rest\n",
      "object is: f7a323a26570d4d73a5e788aef3885891b3\n",
      "subject: http://www.workingontologist.org/Examples/Chapter3/shakespeare.owl#Shakespeare\n",
      "predicate: http://www.w3.org/1999/02/22-rdf-syntax-ns#type\n",
      "object is: http://www.workingontologist.org/Examples/Chapter3/shakespeare.owl#Author\n"
     ]
    }
   ],
   "source": [
    "for s, p, o in g:\n",
    "  print(\"subject: \" + str(s))\n",
    "  print(\"predicate: \" + str(p))\n",
    "  print(\"object is: \" + str(o))"
   ]
  },
  {
   "cell_type": "markdown",
   "metadata": {
    "id": "Vq8WDfjtlz6a"
   },
   "source": [
    "The actual elements in the triples are Python classes that represent URIRefs, blank nodes, and literals. Write a loop that uses the `type` function to print the type of each variable such as `type(s)`.\n",
    "\n",
    "You can read more about the Graph class here: https://rdflib.readthedocs.io/en/6.1.1/intro_to_graphs.html"
   ]
  },
  {
   "cell_type": "markdown",
   "metadata": {
    "id": "uonYfNMPlz6a"
   },
   "source": [
    "## 3. Serialisation\n",
    "With our shakespeare graph still stored in the `g` variable, we can use the `serialize` method to see what the graph looks like in different formats:"
   ]
  },
  {
   "cell_type": "code",
   "execution_count": null,
   "metadata": {
    "colab": {
     "base_uri": "https://localhost:8080/"
    },
    "id": "ffEVzZlmlz6b",
    "outputId": "a56a0771-fd07-46e1-f196-311141c2afa6"
   },
   "outputs": [
    {
     "name": "stdout",
     "output_type": "stream",
     "text": [
      "<http://www.workingontologist.org/Examples/Chapter3/geography.owl#Scotland> <http://www.w3.org/2000/01/rdf-schema#label> \"Scotland\"^^<http://www.w3.org/2001/XMLSchema#string> .\n",
      "<http://www.workingontologist.org/Examples/Chapter3/shakespeare.owl#AnneHathaway> <http://www.workingontologist.org/Examples/Chapter3/biography.owl#married> <http://www.workingontologist.org/Examples/Chapter3/shakespeare.owl#Shakespeare> .\n",
      "<http://www.workingontologist.org/Examples/Chapter3/shakespeare.owl#Shakespeare> <http://www.workingontologist.org/Examples/Chapter3/shakespeare.owl#wrote> <http://www.workingontologist.org/Examples/Chapter3/shakespeare.owl#AsYouLikeIt> .\n",
      "<http://www.workingontologist.org/Examples/Chapter3/biography.owl#married> <http://www.w3.org/2000/01/rdf-schema#label> \"married\"^^<http://www.w3.org/2001/XMLSchema#string> .\n",
      "<http://www.workingontologist.org/Examples/Chapter3/geography.owl#ChannelIslands> <http://www.w3.org/1999/02/22-rdf-syntax-ns#type> <http://www.workingontologist.org/Examples/Chapter3/shakespeare.owl#Place> .\n",
      "<http://www.workingontologist.org/Examples/Chapter3/shakespeare.owl> <http://www.w3.org/1999/02/22-rdf-syntax-ns#type> <http://www.w3.org/2002/07/owl#Ontology> .\n",
      "_:fd4dbdcb1b0b443b0b7a362b26077b309b2 <http://www.w3.org/1999/02/22-rdf-syntax-ns#first> <http://www.workingontologist.org/Examples/Chapter3/shakespeare.owl#Hamnet> .\n",
      "<http://www.workingontologist.org/Examples/Chapter3/shakespeare.owl#Shakespeare> <http://www.workingontologist.org/Examples/Chapter3/shakespeare.owl#wrote> <http://www.workingontologist.org/Examples/Chapter3/shakespeare.owl#HenryV> .\n",
      "<http://www.workingontologist.org/Examples/Chapter3/shakespeare.owl#Person> <http://www.w3.org/1999/02/22-rdf-syntax-ns#type> <http://www.w3.org/2002/07/owl#Class> .\n",
      "<http://www.workingontologist.org/Examples/Chapter3/biography.owl#livedIn> <http://www.w3.org/2000/01/rdf-schema#label> \"lived in\"^^<http://www.w3.org/2001/XMLSchema#string> .\n",
      "<http://www.workingontologist.org/Examples/Chapter3/shakespeare.owl#Place> <http://www.w3.org/2000/01/rdf-schema#label> \"Place\"^^<http://www.w3.org/2001/XMLSchema#string> .\n",
      "<http://www.workingontologist.org/Examples/Chapter3/shakespeare.owl#wrote> <http://www.w3.org/2000/01/rdf-schema#label> \"wrote\"^^<http://www.w3.org/2001/XMLSchema#string> .\n",
      "<http://www.workingontologist.org/Examples/Chapter3/shakespeare.owl#Shakespeare> <http://www.workingontologist.org/Examples/Chapter3/shakespeare.owl#wrote> <http://www.workingontologist.org/Examples/Chapter3/shakespeare.owl#MeasureForMeasure> .\n",
      "<http://www.workingontologist.org/Examples/Chapter3/shakespeare.owl#LovesLaboursLost> <http://www.w3.org/1999/02/22-rdf-syntax-ns#type> <http://www.workingontologist.org/Examples/Chapter3/shakespeare.owl#Play> .\n",
      "<http://www.workingontologist.org/Examples/Chapter3/geography.owl#isIn> <http://www.w3.org/2000/01/rdf-schema#label> \"is in\"^^<http://www.w3.org/2001/XMLSchema#string> .\n",
      "<http://www.workingontologist.org/Examples/Chapter3/shakespeare.owl#Susanna> <http://www.w3.org/1999/02/22-rdf-syntax-ns#type> <http://www.workingontologist.org/Examples/Chapter3/shakespeare.owl#Person> .\n",
      "_:f7a323a26570d4d73a5e788aef3885891b1 <http://www.w3.org/1999/02/22-rdf-syntax-ns#rest> _:f7a323a26570d4d73a5e788aef3885891b2 .\n",
      "<http://www.workingontologist.org/Examples/Chapter3/shakespeare.owl#Shakespeare> <http://www.w3.org/2000/01/rdf-schema#label> \"Shakespeare\"^^<http://www.w3.org/2001/XMLSchema#string> .\n",
      "<http://www.workingontologist.org/Examples/Chapter3/geography.owl#UK> <http://www.w3.org/2000/01/rdf-schema#label> \"UK\"^^<http://www.w3.org/2001/XMLSchema#string> .\n",
      "<http://www.workingontologist.org/Examples/Chapter3/shakespeare.owl#AsYouLikeIt> <http://www.w3.org/1999/02/22-rdf-syntax-ns#type> <http://www.workingontologist.org/Examples/Chapter3/shakespeare.owl#Play> .\n",
      "_:fd4dbdcb1b0b443b0b7a362b26077b309b3 <http://www.w3.org/1999/02/22-rdf-syntax-ns#rest> <http://www.w3.org/1999/02/22-rdf-syntax-ns#nil> .\n",
      "<http://www.workingontologist.org/Examples/Chapter3/shakespeare.owl#Play> <http://www.w3.org/2000/01/rdf-schema#label> \"Play\"^^<http://www.w3.org/2001/XMLSchema#string> .\n",
      "<http://www.workingontologist.org/Examples/Chapter3/geography.owl#Wales> <http://www.workingontologist.org/Examples/Chapter3/geography.owl#partOf> <http://www.workingontologist.org/Examples/Chapter3/geography.owl#UK> .\n",
      "_:f7a323a26570d4d73a5e788aef3885891b1 <http://www.w3.org/1999/02/22-rdf-syntax-ns#first> <http://www.workingontologist.org/Examples/Chapter3/shakespeare.owl#Susanna> .\n",
      "<http://www.workingontologist.org/Examples/Chapter3/shakespeare.owl#Judith> <http://www.w3.org/1999/02/22-rdf-syntax-ns#type> <http://www.workingontologist.org/Examples/Chapter3/shakespeare.owl#Person> .\n",
      "<http://www.workingontologist.org/Examples/Chapter3/geography.owl#IsleOfMan> <http://www.w3.org/1999/02/22-rdf-syntax-ns#type> <http://www.workingontologist.org/Examples/Chapter3/shakespeare.owl#Place> .\n",
      "<http://www.workingontologist.org/Examples/Chapter3/biography.owl#livedIn> <http://www.w3.org/2000/01/rdf-schema#range> <http://www.workingontologist.org/Examples/Chapter3/shakespeare.owl#Place> .\n",
      "<http://www.workingontologist.org/Examples/Chapter3/geography.owl#IsleOfMan> <http://www.workingontologist.org/Examples/Chapter3/geography.owl#partOf> <http://www.workingontologist.org/Examples/Chapter3/geography.owl#UK> .\n",
      "<http://www.workingontologist.org/Examples/Chapter3/shakespeare.owl#KingLear> <http://www.w3.org/1999/02/22-rdf-syntax-ns#type> <http://www.workingontologist.org/Examples/Chapter3/shakespeare.owl#Play> .\n",
      "<http://www.workingontologist.org/Examples/Chapter3/geography.owl#Wales> <http://www.w3.org/1999/02/22-rdf-syntax-ns#type> <http://www.workingontologist.org/Examples/Chapter3/shakespeare.owl#Place> .\n",
      "<http://www.workingontologist.org/Examples/Chapter3/geography.owl#isIn> <http://www.w3.org/1999/02/22-rdf-syntax-ns#type> <http://www.w3.org/2002/07/owl#ObjectProperty> .\n",
      "<http://www.workingontologist.org/Examples/Chapter3/geography.owl#England> <http://www.workingontologist.org/Examples/Chapter3/geography.owl#partOf> <http://www.workingontologist.org/Examples/Chapter3/geography.owl#UK> .\n",
      "<http://www.workingontologist.org/Examples/Chapter3/shakespeare.owl#AnneHathaway> <http://www.w3.org/2000/01/rdf-schema#label> \"Anne hathaway\"^^<http://www.w3.org/2001/XMLSchema#string> .\n",
      "<http://www.workingontologist.org/Examples/Chapter3/shakespeare.owl#Macbeth> <http://www.w3.org/2000/01/rdf-schema#label> \"Macbeth\"^^<http://www.w3.org/2001/XMLSchema#string> .\n",
      "<http://www.workingontologist.org/Examples/Chapter3/geography.owl#partOf> <http://www.w3.org/1999/02/22-rdf-syntax-ns#type> <http://www.w3.org/2002/07/owl#ObjectProperty> .\n",
      "<http://www.workingontologist.org/Examples/Chapter3/shakespeare.owl#Othello> <http://www.w3.org/1999/02/22-rdf-syntax-ns#type> <http://www.workingontologist.org/Examples/Chapter3/shakespeare.owl#Play> .\n",
      "<http://www.workingontologist.org/Examples/Chapter3/shakespeare.owl#Hamlet> <http://www.w3.org/1999/02/22-rdf-syntax-ns#type> <http://www.workingontologist.org/Examples/Chapter3/shakespeare.owl#Play> .\n",
      "<http://www.workingontologist.org/Examples/Chapter3/biography.owl#married> <http://www.w3.org/1999/02/22-rdf-syntax-ns#type> <http://www.w3.org/2002/07/owl#ObjectProperty> .\n",
      "<http://www.workingontologist.org/Examples/Chapter3/shakespeare.owl#Play> <http://www.w3.org/1999/02/22-rdf-syntax-ns#type> <http://www.w3.org/2002/07/owl#Class> .\n",
      "<http://www.workingontologist.org/Examples/Chapter3/biography.owl#married> <http://www.w3.org/2000/01/rdf-schema#domain> <http://www.workingontologist.org/Examples/Chapter3/shakespeare.owl#Person> .\n",
      "<http://www.workingontologist.org/Examples/Chapter3/shakespeare.owl#Shakespeare> <http://www.workingontologist.org/Examples/Chapter3/biography.owl#livedIn> <http://www.workingontologist.org/Examples/Chapter3/geography.owl#Stratford> .\n",
      "<http://www.workingontologist.org/Examples/Chapter3/geography.owl#isIn> <http://www.w3.org/2000/01/rdf-schema#range> <http://www.workingontologist.org/Examples/Chapter3/shakespeare.owl#Place> .\n",
      "<http://www.workingontologist.org/Examples/Chapter3/biography.owl#married> <http://www.w3.org/2000/01/rdf-schema#range> <http://www.workingontologist.org/Examples/Chapter3/shakespeare.owl#Person> .\n",
      "<http://www.workingontologist.org/Examples/Chapter3/shakespeare.owl#MeasureForMeasure> <http://www.w3.org/1999/02/22-rdf-syntax-ns#type> <http://www.workingontologist.org/Examples/Chapter3/shakespeare.owl#Play> .\n",
      "<http://www.workingontologist.org/Examples/Chapter3/shakespeare.owl#setIn> <http://www.w3.org/2000/01/rdf-schema#label> \"set in\"^^<http://www.w3.org/2001/XMLSchema#string> .\n",
      "_:fd4dbdcb1b0b443b0b7a362b26077b309b3 <http://www.w3.org/1999/02/22-rdf-syntax-ns#first> <http://www.workingontologist.org/Examples/Chapter3/shakespeare.owl#Judith> .\n",
      "<http://www.workingontologist.org/Examples/Chapter3/geography.owl#Stratford> <http://www.workingontologist.org/Examples/Chapter3/geography.owl#isIn> <http://www.workingontologist.org/Examples/Chapter3/geography.owl#England> .\n",
      "<http://www.workingontologist.org/Examples/Chapter3/shakespeare.owl#wrote> <http://www.w3.org/1999/02/22-rdf-syntax-ns#type> <http://www.w3.org/2002/07/owl#ObjectProperty> .\n",
      "<http://www.workingontologist.org/Examples/Chapter3/geography.owl#UK> <http://www.w3.org/1999/02/22-rdf-syntax-ns#type> <http://www.workingontologist.org/Examples/Chapter3/shakespeare.owl#Place> .\n",
      "_:fd4dbdcb1b0b443b0b7a362b26077b309b1 <http://www.w3.org/1999/02/22-rdf-syntax-ns#first> <http://www.workingontologist.org/Examples/Chapter3/shakespeare.owl#Susanna> .\n",
      "<http://www.workingontologist.org/Examples/Chapter3/shakespeare.owl#TwelfthNight> <http://www.w3.org/1999/02/22-rdf-syntax-ns#type> <http://www.workingontologist.org/Examples/Chapter3/shakespeare.owl#Play> .\n",
      "<http://www.workingontologist.org/Examples/Chapter3/shakespeare.owl#hasChild> <http://www.w3.org/1999/02/22-rdf-syntax-ns#type> <http://www.w3.org/2002/07/owl#ObjectProperty> .\n",
      "<http://www.workingontologist.org/Examples/Chapter3/shakespeare.owl#Shakespeare> <http://www.workingontologist.org/Examples/Chapter3/shakespeare.owl#wrote> <http://www.workingontologist.org/Examples/Chapter3/shakespeare.owl#Hamlet> .\n",
      "<http://www.workingontologist.org/Examples/Chapter3/shakespeare.owl#Author> <http://www.w3.org/2000/01/rdf-schema#subClassOf> <http://www.workingontologist.org/Examples/Chapter3/shakespeare.owl#Person> .\n",
      "<http://www.workingontologist.org/Examples/Chapter3/shakespeare.owl#HenryV> <http://www.w3.org/1999/02/22-rdf-syntax-ns#type> <http://www.workingontologist.org/Examples/Chapter3/shakespeare.owl#Play> .\n",
      "<http://www.workingontologist.org/Examples/Chapter3/shakespeare.owl#Author> <http://www.w3.org/1999/02/22-rdf-syntax-ns#type> <http://www.w3.org/2002/07/owl#Class> .\n",
      "<http://www.workingontologist.org/Examples/Chapter3/geography.owl#NorthernIreland> <http://www.w3.org/1999/02/22-rdf-syntax-ns#type> <http://www.workingontologist.org/Examples/Chapter3/shakespeare.owl#Place> .\n",
      "<http://www.workingontologist.org/Examples/Chapter3/geography.owl#NorthernIreland> <http://www.workingontologist.org/Examples/Chapter3/geography.owl#partOf> <http://www.workingontologist.org/Examples/Chapter3/geography.owl#UK> .\n",
      "<http://www.workingontologist.org/Examples/Chapter3/shakespeare.owl#Susanna> <http://www.w3.org/2000/01/rdf-schema#label> \"Susanna\"^^<http://www.w3.org/2001/XMLSchema#string> .\n",
      "<http://www.workingontologist.org/Examples/Chapter3/biography.owl#livedIn> <http://www.w3.org/1999/02/22-rdf-syntax-ns#type> <http://www.w3.org/2002/07/owl#ObjectProperty> .\n",
      "<http://www.workingontologist.org/Examples/Chapter3/shakespeare.owl#Hamnet> <http://www.w3.org/1999/02/22-rdf-syntax-ns#type> <http://www.workingontologist.org/Examples/Chapter3/shakespeare.owl#Person> .\n",
      "<http://www.workingontologist.org/Examples/Chapter3/geography.owl#ChannelIslands> <http://www.workingontologist.org/Examples/Chapter3/geography.owl#partOf> <http://www.workingontologist.org/Examples/Chapter3/geography.owl#UK> .\n",
      "<http://www.workingontologist.org/Examples/Chapter3/shakespeare.owl#AnneHathaway> <http://www.w3.org/1999/02/22-rdf-syntax-ns#type> <http://www.workingontologist.org/Examples/Chapter3/shakespeare.owl#Person> .\n",
      "<http://www.workingontologist.org/Examples/Chapter3/geography.owl#Stratford> <http://www.w3.org/1999/02/22-rdf-syntax-ns#type> <http://www.workingontologist.org/Examples/Chapter3/shakespeare.owl#Place> .\n",
      "<http://www.workingontologist.org/Examples/Chapter3/shakespeare.owl#Macbeth> <http://www.w3.org/1999/02/22-rdf-syntax-ns#type> <http://www.workingontologist.org/Examples/Chapter3/shakespeare.owl#Play> .\n",
      "<http://www.workingontologist.org/Examples/Chapter3/geography.owl#Scotland> <http://www.w3.org/1999/02/22-rdf-syntax-ns#type> <http://www.workingontologist.org/Examples/Chapter3/shakespeare.owl#Place> .\n",
      "_:f7a323a26570d4d73a5e788aef3885891b3 <http://www.w3.org/1999/02/22-rdf-syntax-ns#first> <http://www.workingontologist.org/Examples/Chapter3/shakespeare.owl#Judith> .\n",
      "<http://www.workingontologist.org/Examples/Chapter3/shakespeare.owl#Place> <http://www.w3.org/1999/02/22-rdf-syntax-ns#type> <http://www.w3.org/2002/07/owl#Class> .\n",
      "<http://www.workingontologist.org/Examples/Chapter3/geography.owl#Scotland> <http://www.workingontologist.org/Examples/Chapter3/geography.owl#partOf> <http://www.workingontologist.org/Examples/Chapter3/geography.owl#UK> .\n",
      "<http://www.workingontologist.org/Examples/Chapter3/shakespeare.owl#Shakespeare> <http://www.workingontologist.org/Examples/Chapter3/shakespeare.owl#wrote> <http://www.workingontologist.org/Examples/Chapter3/shakespeare.owl#Othello> .\n",
      "<http://www.workingontologist.org/Examples/Chapter3/shakespeare.owl#KingLear> <http://www.w3.org/2000/01/rdf-schema#label> \"King lear\"^^<http://www.w3.org/2001/XMLSchema#string> .\n",
      "<http://www.workingontologist.org/Examples/Chapter3/shakespeare.owl#Author> <http://www.w3.org/2000/01/rdf-schema#label> \"Author\"^^<http://www.w3.org/2001/XMLSchema#string> .\n",
      "<http://www.workingontologist.org/Examples/Chapter3/shakespeare.owl#Shakespeare> <http://www.workingontologist.org/Examples/Chapter3/shakespeare.owl#hasChild> _:fd4dbdcb1b0b443b0b7a362b26077b309b1 .\n",
      "<http://www.workingontologist.org/Examples/Chapter3/shakespeare.owl#Shakespeare> <http://www.workingontologist.org/Examples/Chapter3/shakespeare.owl#wrote> <http://www.workingontologist.org/Examples/Chapter3/shakespeare.owl#TwelfthNight> .\n",
      "<http://www.workingontologist.org/Examples/Chapter3/shakespeare.owl#Shakespeare> <http://www.workingontologist.org/Examples/Chapter3/shakespeare.owl#wrote> <http://www.workingontologist.org/Examples/Chapter3/shakespeare.owl#LovesLaboursLost> .\n",
      "<http://www.workingontologist.org/Examples/Chapter3/geography.owl#Stratford> <http://www.w3.org/2000/01/rdf-schema#label> \"Stratford\"^^<http://www.w3.org/2001/XMLSchema#string> .\n",
      "<http://www.workingontologist.org/Examples/Chapter3/shakespeare.owl#setIn> <http://www.w3.org/2000/01/rdf-schema#domain> <http://www.workingontologist.org/Examples/Chapter3/shakespeare.owl#Play> .\n",
      "_:f7a323a26570d4d73a5e788aef3885891b3 <http://www.w3.org/1999/02/22-rdf-syntax-ns#rest> <http://www.w3.org/1999/02/22-rdf-syntax-ns#nil> .\n",
      "<http://www.workingontologist.org/Examples/Chapter3/shakespeare.owl#setIn> <http://www.w3.org/1999/02/22-rdf-syntax-ns#type> <http://www.w3.org/2002/07/owl#ObjectProperty> .\n",
      "<http://www.workingontologist.org/Examples/Chapter3/shakespeare.owl#Shakespeare> <http://www.workingontologist.org/Examples/Chapter3/shakespeare.owl#wrote> <http://www.workingontologist.org/Examples/Chapter3/shakespeare.owl#TheTempest> .\n",
      "<http://www.workingontologist.org/Examples/Chapter3/geography.owl#isIn> <http://www.w3.org/2000/01/rdf-schema#domain> <http://www.workingontologist.org/Examples/Chapter3/shakespeare.owl#Place> .\n",
      "<http://www.workingontologist.org/Examples/Chapter3/shakespeare.owl#Shakespeare> <http://www.workingontologist.org/Examples/Chapter3/shakespeare.owl#wrote> <http://www.workingontologist.org/Examples/Chapter3/shakespeare.owl#WintersTale> .\n",
      "<http://www.workingontologist.org/Examples/Chapter3/shakespeare.owl#WintersTale> <http://www.w3.org/1999/02/22-rdf-syntax-ns#type> <http://www.workingontologist.org/Examples/Chapter3/shakespeare.owl#Play> .\n",
      "<http://www.workingontologist.org/Examples/Chapter3/shakespeare.owl#Shakespeare> <http://www.workingontologist.org/Examples/Chapter3/shakespeare.owl#wrote> <http://www.workingontologist.org/Examples/Chapter3/shakespeare.owl#KingLear> .\n",
      "<http://www.workingontologist.org/Examples/Chapter3/shakespeare.owl#hasChild> <http://www.w3.org/2000/01/rdf-schema#label> \"has child\"^^<http://www.w3.org/2001/XMLSchema#string> .\n",
      "<http://www.workingontologist.org/Examples/Chapter3/geography.owl#England> <http://www.w3.org/1999/02/22-rdf-syntax-ns#type> <http://www.workingontologist.org/Examples/Chapter3/shakespeare.owl#Place> .\n",
      "<http://www.workingontologist.org/Examples/Chapter3/geography.owl#partOf> <http://www.w3.org/2000/01/rdf-schema#domain> <http://www.workingontologist.org/Examples/Chapter3/shakespeare.owl#Place> .\n",
      "<http://www.workingontologist.org/Examples/Chapter3/shakespeare.owl#Shakespeare> <http://www.workingontologist.org/Examples/Chapter3/shakespeare.owl#wrote> <http://www.workingontologist.org/Examples/Chapter3/shakespeare.owl#Macbeth> .\n",
      "<http://www.workingontologist.org/Examples/Chapter3/shakespeare.owl#Judith> <http://www.w3.org/2000/01/rdf-schema#label> \"Judith\"^^<http://www.w3.org/2001/XMLSchema#string> .\n",
      "<http://www.workingontologist.org/Examples/Chapter3/shakespeare.owl#Macbeth> <http://www.workingontologist.org/Examples/Chapter3/shakespeare.owl#setIn> <http://www.workingontologist.org/Examples/Chapter3/geography.owl#Scotland> .\n",
      "<http://www.workingontologist.org/Examples/Chapter3/shakespeare.owl> <http://www.w3.org/2002/07/owl#versionInfo> \"Created with TopBraid Composer\"^^<http://www.w3.org/2001/XMLSchema#string> .\n",
      "<http://www.workingontologist.org/Examples/Chapter3/shakespeare.owl#wrote> <http://www.w3.org/2000/01/rdf-schema#domain> <http://www.workingontologist.org/Examples/Chapter3/shakespeare.owl#Author> .\n",
      "<http://www.workingontologist.org/Examples/Chapter3/geography.owl#partOf> <http://www.w3.org/2000/01/rdf-schema#range> <http://www.workingontologist.org/Examples/Chapter3/shakespeare.owl#Place> .\n",
      "_:fd4dbdcb1b0b443b0b7a362b26077b309b2 <http://www.w3.org/1999/02/22-rdf-syntax-ns#rest> _:fd4dbdcb1b0b443b0b7a362b26077b309b3 .\n",
      "<http://www.workingontologist.org/Examples/Chapter3/shakespeare.owl#setIn> <http://www.w3.org/2000/01/rdf-schema#range> <http://www.workingontologist.org/Examples/Chapter3/shakespeare.owl#Place> .\n",
      "<http://www.workingontologist.org/Examples/Chapter3/shakespeare.owl#TheTempest> <http://www.w3.org/1999/02/22-rdf-syntax-ns#type> <http://www.workingontologist.org/Examples/Chapter3/shakespeare.owl#Play> .\n",
      "_:fd4dbdcb1b0b443b0b7a362b26077b309b1 <http://www.w3.org/1999/02/22-rdf-syntax-ns#rest> _:fd4dbdcb1b0b443b0b7a362b26077b309b2 .\n",
      "<http://www.workingontologist.org/Examples/Chapter3/geography.owl#England> <http://www.w3.org/2000/01/rdf-schema#label> \"England\"^^<http://www.w3.org/2001/XMLSchema#string> .\n",
      "<http://www.workingontologist.org/Examples/Chapter3/geography.owl#partOf> <http://www.w3.org/2000/01/rdf-schema#label> \"part of\"^^<http://www.w3.org/2001/XMLSchema#string> .\n",
      "<http://www.workingontologist.org/Examples/Chapter3/shakespeare.owl#wrote> <http://www.w3.org/2000/01/rdf-schema#range> <http://www.workingontologist.org/Examples/Chapter3/shakespeare.owl#Play> .\n",
      "_:f7a323a26570d4d73a5e788aef3885891b2 <http://www.w3.org/1999/02/22-rdf-syntax-ns#first> <http://www.workingontologist.org/Examples/Chapter3/shakespeare.owl#Hamnet> .\n",
      "<http://www.workingontologist.org/Examples/Chapter3/shakespeare.owl#AnneHathaway> <http://www.workingontologist.org/Examples/Chapter3/shakespeare.owl#hasChild> \"[lit:Judith, lit:Hamnet, lit:Susanna]\" .\n",
      "<http://www.workingontologist.org/Examples/Chapter3/shakespeare.owl#Hamnet> <http://www.w3.org/2000/01/rdf-schema#label> \"Hamnet\"^^<http://www.w3.org/2001/XMLSchema#string> .\n",
      "<http://www.workingontologist.org/Examples/Chapter3/shakespeare.owl#Person> <http://www.w3.org/2000/01/rdf-schema#label> \"Person\"^^<http://www.w3.org/2001/XMLSchema#string> .\n",
      "<http://www.workingontologist.org/Examples/Chapter3/shakespeare.owl#Shakespeare> <http://www.workingontologist.org/Examples/Chapter3/shakespeare.owl#hasChild> _:f7a323a26570d4d73a5e788aef3885891b1 .\n",
      "<http://www.workingontologist.org/Examples/Chapter3/biography.owl#livedIn> <http://www.w3.org/2000/01/rdf-schema#domain> <http://www.workingontologist.org/Examples/Chapter3/shakespeare.owl#Person> .\n",
      "_:f7a323a26570d4d73a5e788aef3885891b2 <http://www.w3.org/1999/02/22-rdf-syntax-ns#rest> _:f7a323a26570d4d73a5e788aef3885891b3 .\n",
      "<http://www.workingontologist.org/Examples/Chapter3/shakespeare.owl#Shakespeare> <http://www.w3.org/1999/02/22-rdf-syntax-ns#type> <http://www.workingontologist.org/Examples/Chapter3/shakespeare.owl#Author> .\n",
      "\n",
      "@prefix bio: <http://www.workingontologist.org/Examples/Chapter3/biography.owl#> .\n",
      "@prefix geo: <http://www.workingontologist.org/Examples/Chapter3/geography.owl#> .\n",
      "@prefix lit: <http://www.workingontologist.org/Examples/Chapter3/shakespeare.owl#> .\n",
      "@prefix owl: <http://www.w3.org/2002/07/owl#> .\n",
      "@prefix rdf: <http://www.w3.org/1999/02/22-rdf-syntax-ns#> .\n",
      "@prefix rdfs: <http://www.w3.org/2000/01/rdf-schema#> .\n",
      "@prefix xsd: <http://www.w3.org/2001/XMLSchema#> .\n",
      "\n",
      "bio:livedIn a owl:ObjectProperty ;\n",
      "    rdfs:label \"lived in\"^^xsd:string ;\n",
      "    rdfs:domain lit:Person ;\n",
      "    rdfs:range lit:Place .\n",
      "\n",
      "bio:married a owl:ObjectProperty ;\n",
      "    rdfs:label \"married\"^^xsd:string ;\n",
      "    rdfs:domain lit:Person ;\n",
      "    rdfs:range lit:Person .\n",
      "\n",
      "geo:ChannelIslands a lit:Place ;\n",
      "    geo:partOf geo:UK .\n",
      "\n",
      "geo:IsleOfMan a lit:Place ;\n",
      "    geo:partOf geo:UK .\n",
      "\n",
      "geo:NorthernIreland a lit:Place ;\n",
      "    geo:partOf geo:UK .\n",
      "\n",
      "geo:Wales a lit:Place ;\n",
      "    geo:partOf geo:UK .\n",
      "\n",
      "geo:isIn a owl:ObjectProperty ;\n",
      "    rdfs:label \"is in\"^^xsd:string ;\n",
      "    rdfs:domain lit:Place ;\n",
      "    rdfs:range lit:Place .\n",
      "\n",
      "geo:partOf a owl:ObjectProperty ;\n",
      "    rdfs:label \"part of\"^^xsd:string ;\n",
      "    rdfs:domain lit:Place ;\n",
      "    rdfs:range lit:Place .\n",
      "\n",
      "<http://www.workingontologist.org/Examples/Chapter3/shakespeare.owl> a owl:Ontology ;\n",
      "    owl:versionInfo \"Created with TopBraid Composer\"^^xsd:string .\n",
      "\n",
      "lit:AnneHathaway a lit:Person ;\n",
      "    rdfs:label \"Anne hathaway\"^^xsd:string ;\n",
      "    bio:married lit:Shakespeare ;\n",
      "    lit:hasChild \"[lit:Judith, lit:Hamnet, lit:Susanna]\" .\n",
      "\n",
      "lit:hasChild a owl:ObjectProperty ;\n",
      "    rdfs:label \"has child\"^^xsd:string .\n",
      "\n",
      "lit:setIn a owl:ObjectProperty ;\n",
      "    rdfs:label \"set in\"^^xsd:string ;\n",
      "    rdfs:domain lit:Play ;\n",
      "    rdfs:range lit:Place .\n",
      "\n",
      "lit:wrote a owl:ObjectProperty ;\n",
      "    rdfs:label \"wrote\"^^xsd:string ;\n",
      "    rdfs:domain lit:Author ;\n",
      "    rdfs:range lit:Play .\n",
      "\n",
      "geo:England a lit:Place ;\n",
      "    rdfs:label \"England\"^^xsd:string ;\n",
      "    geo:partOf geo:UK .\n",
      "\n",
      "geo:Scotland a lit:Place ;\n",
      "    rdfs:label \"Scotland\"^^xsd:string ;\n",
      "    geo:partOf geo:UK .\n",
      "\n",
      "geo:Stratford a lit:Place ;\n",
      "    rdfs:label \"Stratford\"^^xsd:string ;\n",
      "    geo:isIn geo:England .\n",
      "\n",
      "lit:AsYouLikeIt a lit:Play .\n",
      "\n",
      "lit:Hamlet a lit:Play .\n",
      "\n",
      "lit:HenryV a lit:Play .\n",
      "\n",
      "lit:KingLear a lit:Play ;\n",
      "    rdfs:label \"King lear\"^^xsd:string .\n",
      "\n",
      "lit:LovesLaboursLost a lit:Play .\n",
      "\n",
      "lit:Macbeth a lit:Play ;\n",
      "    rdfs:label \"Macbeth\"^^xsd:string ;\n",
      "    lit:setIn geo:Scotland .\n",
      "\n",
      "lit:MeasureForMeasure a lit:Play .\n",
      "\n",
      "lit:Othello a lit:Play .\n",
      "\n",
      "lit:Shakespeare a lit:Author ;\n",
      "    rdfs:label \"Shakespeare\"^^xsd:string ;\n",
      "    bio:livedIn geo:Stratford ;\n",
      "    lit:hasChild ( lit:Susanna lit:Hamnet lit:Judith ),\n",
      "        ( lit:Susanna lit:Hamnet lit:Judith ) ;\n",
      "    lit:wrote lit:AsYouLikeIt,\n",
      "        lit:Hamlet,\n",
      "        lit:HenryV,\n",
      "        lit:KingLear,\n",
      "        lit:LovesLaboursLost,\n",
      "        lit:Macbeth,\n",
      "        lit:MeasureForMeasure,\n",
      "        lit:Othello,\n",
      "        lit:TheTempest,\n",
      "        lit:TwelfthNight,\n",
      "        lit:WintersTale .\n",
      "\n",
      "lit:TheTempest a lit:Play .\n",
      "\n",
      "lit:TwelfthNight a lit:Play .\n",
      "\n",
      "lit:WintersTale a lit:Play .\n",
      "\n",
      "lit:Author a owl:Class ;\n",
      "    rdfs:label \"Author\"^^xsd:string ;\n",
      "    rdfs:subClassOf lit:Person .\n",
      "\n",
      "lit:Hamnet a lit:Person ;\n",
      "    rdfs:label \"Hamnet\"^^xsd:string .\n",
      "\n",
      "lit:Judith a lit:Person ;\n",
      "    rdfs:label \"Judith\"^^xsd:string .\n",
      "\n",
      "lit:Susanna a lit:Person ;\n",
      "    rdfs:label \"Susanna\"^^xsd:string .\n",
      "\n",
      "geo:UK a lit:Place ;\n",
      "    rdfs:label \"UK\"^^xsd:string .\n",
      "\n",
      "lit:Person a owl:Class ;\n",
      "    rdfs:label \"Person\"^^xsd:string .\n",
      "\n",
      "lit:Play a owl:Class ;\n",
      "    rdfs:label \"Play\"^^xsd:string .\n",
      "\n",
      "lit:Place a owl:Class ;\n",
      "    rdfs:label \"Place\"^^xsd:string .\n",
      "\n",
      "\n",
      "<?xml version=\"1.0\" encoding=\"utf-8\"?>\n",
      "<rdf:RDF\n",
      "   xmlns:bio=\"http://www.workingontologist.org/Examples/Chapter3/biography.owl#\"\n",
      "   xmlns:geo=\"http://www.workingontologist.org/Examples/Chapter3/geography.owl#\"\n",
      "   xmlns:lit=\"http://www.workingontologist.org/Examples/Chapter3/shakespeare.owl#\"\n",
      "   xmlns:owl=\"http://www.w3.org/2002/07/owl#\"\n",
      "   xmlns:rdf=\"http://www.w3.org/1999/02/22-rdf-syntax-ns#\"\n",
      "   xmlns:rdfs=\"http://www.w3.org/2000/01/rdf-schema#\"\n",
      ">\n",
      "  <rdf:Description rdf:about=\"http://www.workingontologist.org/Examples/Chapter3/geography.owl#Scotland\">\n",
      "    <rdf:type rdf:resource=\"http://www.workingontologist.org/Examples/Chapter3/shakespeare.owl#Place\"/>\n",
      "    <rdfs:label rdf:datatype=\"http://www.w3.org/2001/XMLSchema#string\">Scotland</rdfs:label>\n",
      "    <geo:partOf rdf:resource=\"http://www.workingontologist.org/Examples/Chapter3/geography.owl#UK\"/>\n",
      "  </rdf:Description>\n",
      "  <rdf:Description rdf:about=\"http://www.workingontologist.org/Examples/Chapter3/shakespeare.owl#AnneHathaway\">\n",
      "    <rdf:type rdf:resource=\"http://www.workingontologist.org/Examples/Chapter3/shakespeare.owl#Person\"/>\n",
      "    <rdfs:label rdf:datatype=\"http://www.w3.org/2001/XMLSchema#string\">Anne hathaway</rdfs:label>\n",
      "    <bio:married rdf:resource=\"http://www.workingontologist.org/Examples/Chapter3/shakespeare.owl#Shakespeare\"/>\n",
      "    <lit:hasChild>[lit:Judith, lit:Hamnet, lit:Susanna]</lit:hasChild>\n",
      "  </rdf:Description>\n",
      "  <rdf:Description rdf:about=\"http://www.workingontologist.org/Examples/Chapter3/shakespeare.owl#Shakespeare\">\n",
      "    <rdf:type rdf:resource=\"http://www.workingontologist.org/Examples/Chapter3/shakespeare.owl#Author\"/>\n",
      "    <rdfs:label rdf:datatype=\"http://www.w3.org/2001/XMLSchema#string\">Shakespeare</rdfs:label>\n",
      "    <bio:livedIn rdf:resource=\"http://www.workingontologist.org/Examples/Chapter3/geography.owl#Stratford\"/>\n",
      "    <lit:hasChild rdf:nodeID=\"fd4dbdcb1b0b443b0b7a362b26077b309b1\"/>\n",
      "    <lit:hasChild rdf:nodeID=\"f7a323a26570d4d73a5e788aef3885891b1\"/>\n",
      "    <lit:wrote rdf:resource=\"http://www.workingontologist.org/Examples/Chapter3/shakespeare.owl#AsYouLikeIt\"/>\n",
      "    <lit:wrote rdf:resource=\"http://www.workingontologist.org/Examples/Chapter3/shakespeare.owl#TheTempest\"/>\n",
      "    <lit:wrote rdf:resource=\"http://www.workingontologist.org/Examples/Chapter3/shakespeare.owl#MeasureForMeasure\"/>\n",
      "    <lit:wrote rdf:resource=\"http://www.workingontologist.org/Examples/Chapter3/shakespeare.owl#TwelfthNight\"/>\n",
      "    <lit:wrote rdf:resource=\"http://www.workingontologist.org/Examples/Chapter3/shakespeare.owl#HenryV\"/>\n",
      "    <lit:wrote rdf:resource=\"http://www.workingontologist.org/Examples/Chapter3/shakespeare.owl#KingLear\"/>\n",
      "    <lit:wrote rdf:resource=\"http://www.workingontologist.org/Examples/Chapter3/shakespeare.owl#WintersTale\"/>\n",
      "    <lit:wrote rdf:resource=\"http://www.workingontologist.org/Examples/Chapter3/shakespeare.owl#Othello\"/>\n",
      "    <lit:wrote rdf:resource=\"http://www.workingontologist.org/Examples/Chapter3/shakespeare.owl#LovesLaboursLost\"/>\n",
      "    <lit:wrote rdf:resource=\"http://www.workingontologist.org/Examples/Chapter3/shakespeare.owl#Macbeth\"/>\n",
      "    <lit:wrote rdf:resource=\"http://www.workingontologist.org/Examples/Chapter3/shakespeare.owl#Hamlet\"/>\n",
      "  </rdf:Description>\n",
      "  <rdf:Description rdf:about=\"http://www.workingontologist.org/Examples/Chapter3/biography.owl#married\">\n",
      "    <rdf:type rdf:resource=\"http://www.w3.org/2002/07/owl#ObjectProperty\"/>\n",
      "    <rdfs:domain rdf:resource=\"http://www.workingontologist.org/Examples/Chapter3/shakespeare.owl#Person\"/>\n",
      "    <rdfs:label rdf:datatype=\"http://www.w3.org/2001/XMLSchema#string\">married</rdfs:label>\n",
      "    <rdfs:range rdf:resource=\"http://www.workingontologist.org/Examples/Chapter3/shakespeare.owl#Person\"/>\n",
      "  </rdf:Description>\n",
      "  <rdf:Description rdf:about=\"http://www.workingontologist.org/Examples/Chapter3/geography.owl#ChannelIslands\">\n",
      "    <rdf:type rdf:resource=\"http://www.workingontologist.org/Examples/Chapter3/shakespeare.owl#Place\"/>\n",
      "    <geo:partOf rdf:resource=\"http://www.workingontologist.org/Examples/Chapter3/geography.owl#UK\"/>\n",
      "  </rdf:Description>\n",
      "  <rdf:Description rdf:about=\"http://www.workingontologist.org/Examples/Chapter3/shakespeare.owl\">\n",
      "    <rdf:type rdf:resource=\"http://www.w3.org/2002/07/owl#Ontology\"/>\n",
      "    <owl:versionInfo rdf:datatype=\"http://www.w3.org/2001/XMLSchema#string\">Created with TopBraid Composer</owl:versionInfo>\n",
      "  </rdf:Description>\n",
      "  <rdf:Description rdf:nodeID=\"fd4dbdcb1b0b443b0b7a362b26077b309b2\">\n",
      "    <rdf:first rdf:resource=\"http://www.workingontologist.org/Examples/Chapter3/shakespeare.owl#Hamnet\"/>\n",
      "    <rdf:rest rdf:nodeID=\"fd4dbdcb1b0b443b0b7a362b26077b309b3\"/>\n",
      "  </rdf:Description>\n",
      "  <rdf:Description rdf:about=\"http://www.workingontologist.org/Examples/Chapter3/shakespeare.owl#Person\">\n",
      "    <rdf:type rdf:resource=\"http://www.w3.org/2002/07/owl#Class\"/>\n",
      "    <rdfs:label rdf:datatype=\"http://www.w3.org/2001/XMLSchema#string\">Person</rdfs:label>\n",
      "  </rdf:Description>\n",
      "  <rdf:Description rdf:about=\"http://www.workingontologist.org/Examples/Chapter3/biography.owl#livedIn\">\n",
      "    <rdf:type rdf:resource=\"http://www.w3.org/2002/07/owl#ObjectProperty\"/>\n",
      "    <rdfs:domain rdf:resource=\"http://www.workingontologist.org/Examples/Chapter3/shakespeare.owl#Person\"/>\n",
      "    <rdfs:label rdf:datatype=\"http://www.w3.org/2001/XMLSchema#string\">lived in</rdfs:label>\n",
      "    <rdfs:range rdf:resource=\"http://www.workingontologist.org/Examples/Chapter3/shakespeare.owl#Place\"/>\n",
      "  </rdf:Description>\n",
      "  <rdf:Description rdf:about=\"http://www.workingontologist.org/Examples/Chapter3/shakespeare.owl#Place\">\n",
      "    <rdf:type rdf:resource=\"http://www.w3.org/2002/07/owl#Class\"/>\n",
      "    <rdfs:label rdf:datatype=\"http://www.w3.org/2001/XMLSchema#string\">Place</rdfs:label>\n",
      "  </rdf:Description>\n",
      "  <rdf:Description rdf:about=\"http://www.workingontologist.org/Examples/Chapter3/shakespeare.owl#wrote\">\n",
      "    <rdf:type rdf:resource=\"http://www.w3.org/2002/07/owl#ObjectProperty\"/>\n",
      "    <rdfs:domain rdf:resource=\"http://www.workingontologist.org/Examples/Chapter3/shakespeare.owl#Author\"/>\n",
      "    <rdfs:label rdf:datatype=\"http://www.w3.org/2001/XMLSchema#string\">wrote</rdfs:label>\n",
      "    <rdfs:range rdf:resource=\"http://www.workingontologist.org/Examples/Chapter3/shakespeare.owl#Play\"/>\n",
      "  </rdf:Description>\n",
      "  <rdf:Description rdf:about=\"http://www.workingontologist.org/Examples/Chapter3/shakespeare.owl#LovesLaboursLost\">\n",
      "    <rdf:type rdf:resource=\"http://www.workingontologist.org/Examples/Chapter3/shakespeare.owl#Play\"/>\n",
      "  </rdf:Description>\n",
      "  <rdf:Description rdf:about=\"http://www.workingontologist.org/Examples/Chapter3/geography.owl#isIn\">\n",
      "    <rdf:type rdf:resource=\"http://www.w3.org/2002/07/owl#ObjectProperty\"/>\n",
      "    <rdfs:domain rdf:resource=\"http://www.workingontologist.org/Examples/Chapter3/shakespeare.owl#Place\"/>\n",
      "    <rdfs:label rdf:datatype=\"http://www.w3.org/2001/XMLSchema#string\">is in</rdfs:label>\n",
      "    <rdfs:range rdf:resource=\"http://www.workingontologist.org/Examples/Chapter3/shakespeare.owl#Place\"/>\n",
      "  </rdf:Description>\n",
      "  <rdf:Description rdf:about=\"http://www.workingontologist.org/Examples/Chapter3/shakespeare.owl#Susanna\">\n",
      "    <rdf:type rdf:resource=\"http://www.workingontologist.org/Examples/Chapter3/shakespeare.owl#Person\"/>\n",
      "    <rdfs:label rdf:datatype=\"http://www.w3.org/2001/XMLSchema#string\">Susanna</rdfs:label>\n",
      "  </rdf:Description>\n",
      "  <rdf:Description rdf:nodeID=\"f7a323a26570d4d73a5e788aef3885891b1\">\n",
      "    <rdf:first rdf:resource=\"http://www.workingontologist.org/Examples/Chapter3/shakespeare.owl#Susanna\"/>\n",
      "    <rdf:rest rdf:nodeID=\"f7a323a26570d4d73a5e788aef3885891b2\"/>\n",
      "  </rdf:Description>\n",
      "  <rdf:Description rdf:about=\"http://www.workingontologist.org/Examples/Chapter3/geography.owl#UK\">\n",
      "    <rdf:type rdf:resource=\"http://www.workingontologist.org/Examples/Chapter3/shakespeare.owl#Place\"/>\n",
      "    <rdfs:label rdf:datatype=\"http://www.w3.org/2001/XMLSchema#string\">UK</rdfs:label>\n",
      "  </rdf:Description>\n",
      "  <rdf:Description rdf:about=\"http://www.workingontologist.org/Examples/Chapter3/shakespeare.owl#AsYouLikeIt\">\n",
      "    <rdf:type rdf:resource=\"http://www.workingontologist.org/Examples/Chapter3/shakespeare.owl#Play\"/>\n",
      "  </rdf:Description>\n",
      "  <rdf:Description rdf:nodeID=\"fd4dbdcb1b0b443b0b7a362b26077b309b3\">\n",
      "    <rdf:first rdf:resource=\"http://www.workingontologist.org/Examples/Chapter3/shakespeare.owl#Judith\"/>\n",
      "    <rdf:rest rdf:resource=\"http://www.w3.org/1999/02/22-rdf-syntax-ns#nil\"/>\n",
      "  </rdf:Description>\n",
      "  <rdf:Description rdf:about=\"http://www.workingontologist.org/Examples/Chapter3/shakespeare.owl#Play\">\n",
      "    <rdf:type rdf:resource=\"http://www.w3.org/2002/07/owl#Class\"/>\n",
      "    <rdfs:label rdf:datatype=\"http://www.w3.org/2001/XMLSchema#string\">Play</rdfs:label>\n",
      "  </rdf:Description>\n",
      "  <rdf:Description rdf:about=\"http://www.workingontologist.org/Examples/Chapter3/geography.owl#Wales\">\n",
      "    <rdf:type rdf:resource=\"http://www.workingontologist.org/Examples/Chapter3/shakespeare.owl#Place\"/>\n",
      "    <geo:partOf rdf:resource=\"http://www.workingontologist.org/Examples/Chapter3/geography.owl#UK\"/>\n",
      "  </rdf:Description>\n",
      "  <rdf:Description rdf:about=\"http://www.workingontologist.org/Examples/Chapter3/shakespeare.owl#Judith\">\n",
      "    <rdf:type rdf:resource=\"http://www.workingontologist.org/Examples/Chapter3/shakespeare.owl#Person\"/>\n",
      "    <rdfs:label rdf:datatype=\"http://www.w3.org/2001/XMLSchema#string\">Judith</rdfs:label>\n",
      "  </rdf:Description>\n",
      "  <rdf:Description rdf:about=\"http://www.workingontologist.org/Examples/Chapter3/geography.owl#IsleOfMan\">\n",
      "    <rdf:type rdf:resource=\"http://www.workingontologist.org/Examples/Chapter3/shakespeare.owl#Place\"/>\n",
      "    <geo:partOf rdf:resource=\"http://www.workingontologist.org/Examples/Chapter3/geography.owl#UK\"/>\n",
      "  </rdf:Description>\n",
      "  <rdf:Description rdf:about=\"http://www.workingontologist.org/Examples/Chapter3/shakespeare.owl#KingLear\">\n",
      "    <rdf:type rdf:resource=\"http://www.workingontologist.org/Examples/Chapter3/shakespeare.owl#Play\"/>\n",
      "    <rdfs:label rdf:datatype=\"http://www.w3.org/2001/XMLSchema#string\">King lear</rdfs:label>\n",
      "  </rdf:Description>\n",
      "  <rdf:Description rdf:about=\"http://www.workingontologist.org/Examples/Chapter3/geography.owl#England\">\n",
      "    <rdf:type rdf:resource=\"http://www.workingontologist.org/Examples/Chapter3/shakespeare.owl#Place\"/>\n",
      "    <rdfs:label rdf:datatype=\"http://www.w3.org/2001/XMLSchema#string\">England</rdfs:label>\n",
      "    <geo:partOf rdf:resource=\"http://www.workingontologist.org/Examples/Chapter3/geography.owl#UK\"/>\n",
      "  </rdf:Description>\n",
      "  <rdf:Description rdf:about=\"http://www.workingontologist.org/Examples/Chapter3/shakespeare.owl#Macbeth\">\n",
      "    <rdf:type rdf:resource=\"http://www.workingontologist.org/Examples/Chapter3/shakespeare.owl#Play\"/>\n",
      "    <rdfs:label rdf:datatype=\"http://www.w3.org/2001/XMLSchema#string\">Macbeth</rdfs:label>\n",
      "    <lit:setIn rdf:resource=\"http://www.workingontologist.org/Examples/Chapter3/geography.owl#Scotland\"/>\n",
      "  </rdf:Description>\n",
      "  <rdf:Description rdf:about=\"http://www.workingontologist.org/Examples/Chapter3/geography.owl#partOf\">\n",
      "    <rdf:type rdf:resource=\"http://www.w3.org/2002/07/owl#ObjectProperty\"/>\n",
      "    <rdfs:domain rdf:resource=\"http://www.workingontologist.org/Examples/Chapter3/shakespeare.owl#Place\"/>\n",
      "    <rdfs:label rdf:datatype=\"http://www.w3.org/2001/XMLSchema#string\">part of</rdfs:label>\n",
      "    <rdfs:range rdf:resource=\"http://www.workingontologist.org/Examples/Chapter3/shakespeare.owl#Place\"/>\n",
      "  </rdf:Description>\n",
      "  <rdf:Description rdf:about=\"http://www.workingontologist.org/Examples/Chapter3/shakespeare.owl#Othello\">\n",
      "    <rdf:type rdf:resource=\"http://www.workingontologist.org/Examples/Chapter3/shakespeare.owl#Play\"/>\n",
      "  </rdf:Description>\n",
      "  <rdf:Description rdf:about=\"http://www.workingontologist.org/Examples/Chapter3/shakespeare.owl#Hamlet\">\n",
      "    <rdf:type rdf:resource=\"http://www.workingontologist.org/Examples/Chapter3/shakespeare.owl#Play\"/>\n",
      "  </rdf:Description>\n",
      "  <rdf:Description rdf:about=\"http://www.workingontologist.org/Examples/Chapter3/shakespeare.owl#MeasureForMeasure\">\n",
      "    <rdf:type rdf:resource=\"http://www.workingontologist.org/Examples/Chapter3/shakespeare.owl#Play\"/>\n",
      "  </rdf:Description>\n",
      "  <rdf:Description rdf:about=\"http://www.workingontologist.org/Examples/Chapter3/shakespeare.owl#setIn\">\n",
      "    <rdf:type rdf:resource=\"http://www.w3.org/2002/07/owl#ObjectProperty\"/>\n",
      "    <rdfs:domain rdf:resource=\"http://www.workingontologist.org/Examples/Chapter3/shakespeare.owl#Play\"/>\n",
      "    <rdfs:label rdf:datatype=\"http://www.w3.org/2001/XMLSchema#string\">set in</rdfs:label>\n",
      "    <rdfs:range rdf:resource=\"http://www.workingontologist.org/Examples/Chapter3/shakespeare.owl#Place\"/>\n",
      "  </rdf:Description>\n",
      "  <rdf:Description rdf:about=\"http://www.workingontologist.org/Examples/Chapter3/geography.owl#Stratford\">\n",
      "    <rdf:type rdf:resource=\"http://www.workingontologist.org/Examples/Chapter3/shakespeare.owl#Place\"/>\n",
      "    <rdfs:label rdf:datatype=\"http://www.w3.org/2001/XMLSchema#string\">Stratford</rdfs:label>\n",
      "    <geo:isIn rdf:resource=\"http://www.workingontologist.org/Examples/Chapter3/geography.owl#England\"/>\n",
      "  </rdf:Description>\n",
      "  <rdf:Description rdf:nodeID=\"fd4dbdcb1b0b443b0b7a362b26077b309b1\">\n",
      "    <rdf:first rdf:resource=\"http://www.workingontologist.org/Examples/Chapter3/shakespeare.owl#Susanna\"/>\n",
      "    <rdf:rest rdf:nodeID=\"fd4dbdcb1b0b443b0b7a362b26077b309b2\"/>\n",
      "  </rdf:Description>\n",
      "  <rdf:Description rdf:about=\"http://www.workingontologist.org/Examples/Chapter3/shakespeare.owl#TwelfthNight\">\n",
      "    <rdf:type rdf:resource=\"http://www.workingontologist.org/Examples/Chapter3/shakespeare.owl#Play\"/>\n",
      "  </rdf:Description>\n",
      "  <rdf:Description rdf:about=\"http://www.workingontologist.org/Examples/Chapter3/shakespeare.owl#hasChild\">\n",
      "    <rdf:type rdf:resource=\"http://www.w3.org/2002/07/owl#ObjectProperty\"/>\n",
      "    <rdfs:label rdf:datatype=\"http://www.w3.org/2001/XMLSchema#string\">has child</rdfs:label>\n",
      "  </rdf:Description>\n",
      "  <rdf:Description rdf:about=\"http://www.workingontologist.org/Examples/Chapter3/shakespeare.owl#Author\">\n",
      "    <rdf:type rdf:resource=\"http://www.w3.org/2002/07/owl#Class\"/>\n",
      "    <rdfs:label rdf:datatype=\"http://www.w3.org/2001/XMLSchema#string\">Author</rdfs:label>\n",
      "    <rdfs:subClassOf rdf:resource=\"http://www.workingontologist.org/Examples/Chapter3/shakespeare.owl#Person\"/>\n",
      "  </rdf:Description>\n",
      "  <rdf:Description rdf:about=\"http://www.workingontologist.org/Examples/Chapter3/shakespeare.owl#HenryV\">\n",
      "    <rdf:type rdf:resource=\"http://www.workingontologist.org/Examples/Chapter3/shakespeare.owl#Play\"/>\n",
      "  </rdf:Description>\n",
      "  <rdf:Description rdf:about=\"http://www.workingontologist.org/Examples/Chapter3/geography.owl#NorthernIreland\">\n",
      "    <rdf:type rdf:resource=\"http://www.workingontologist.org/Examples/Chapter3/shakespeare.owl#Place\"/>\n",
      "    <geo:partOf rdf:resource=\"http://www.workingontologist.org/Examples/Chapter3/geography.owl#UK\"/>\n",
      "  </rdf:Description>\n",
      "  <rdf:Description rdf:about=\"http://www.workingontologist.org/Examples/Chapter3/shakespeare.owl#Hamnet\">\n",
      "    <rdf:type rdf:resource=\"http://www.workingontologist.org/Examples/Chapter3/shakespeare.owl#Person\"/>\n",
      "    <rdfs:label rdf:datatype=\"http://www.w3.org/2001/XMLSchema#string\">Hamnet</rdfs:label>\n",
      "  </rdf:Description>\n",
      "  <rdf:Description rdf:nodeID=\"f7a323a26570d4d73a5e788aef3885891b3\">\n",
      "    <rdf:first rdf:resource=\"http://www.workingontologist.org/Examples/Chapter3/shakespeare.owl#Judith\"/>\n",
      "    <rdf:rest rdf:resource=\"http://www.w3.org/1999/02/22-rdf-syntax-ns#nil\"/>\n",
      "  </rdf:Description>\n",
      "  <rdf:Description rdf:about=\"http://www.workingontologist.org/Examples/Chapter3/shakespeare.owl#WintersTale\">\n",
      "    <rdf:type rdf:resource=\"http://www.workingontologist.org/Examples/Chapter3/shakespeare.owl#Play\"/>\n",
      "  </rdf:Description>\n",
      "  <rdf:Description rdf:about=\"http://www.workingontologist.org/Examples/Chapter3/shakespeare.owl#TheTempest\">\n",
      "    <rdf:type rdf:resource=\"http://www.workingontologist.org/Examples/Chapter3/shakespeare.owl#Play\"/>\n",
      "  </rdf:Description>\n",
      "  <rdf:Description rdf:nodeID=\"f7a323a26570d4d73a5e788aef3885891b2\">\n",
      "    <rdf:first rdf:resource=\"http://www.workingontologist.org/Examples/Chapter3/shakespeare.owl#Hamnet\"/>\n",
      "    <rdf:rest rdf:nodeID=\"f7a323a26570d4d73a5e788aef3885891b3\"/>\n",
      "  </rdf:Description>\n",
      "</rdf:RDF>\n",
      "\n"
     ]
    }
   ],
   "source": [
    "print(g.serialize(format = 'nt'))\n",
    "print(g.serialize(format = 'turtle'))\n",
    "print(g.serialize(format = 'xml'))"
   ]
  },
  {
   "cell_type": "markdown",
   "metadata": {
    "id": "KR7dRxoLlz6c"
   },
   "source": [
    "Compare each format, note how the `turtle` format is much less verbose than N-triples (`nt`) or `xml`. Read up how to save files using python and save each serialisation to a new file such as `shakespeare.xml`. Here is a good place to start: https://www.w3schools.com/python/python_file_write.asp"
   ]
  },
  {
   "cell_type": "markdown",
   "metadata": {
    "id": "TriT3dRllz6c"
   },
   "source": [
    "## 4. The RDF Store\n",
    "For this part of the lab, we'll be using RDFlib to create an RDF Store. Stores allow us to persist our graphs in muliple ways such as a SQL database. For simplicity, we'll be using an in-memory store: in your own time you might be interested in exploring how to use MySQL, SQLite, or Sleepycat.\n",
    "\n",
    "\n",
    "We'll create some example RDF data to manipulate with. For reference, you can find that example data here: https://www.w3schools.com/xml/xml_rdf.asp."
   ]
  },
  {
   "cell_type": "code",
   "execution_count": null,
   "metadata": {
    "id": "bbPYLI8Llz6c"
   },
   "outputs": [],
   "source": [
    "rdf_xml_data = '''<?xml version=\"1.0\"?>\n",
    "<rdf:RDF xmlns:rdf=\"http://www.w3.org/1999/02/22-rdf-syntax-ns#\" xmlns:cd=\"http://www.recshop.fake/cd#\">\n",
    "<rdf:Description\n",
    "rdf:about=\"http://www.recshop.fake/cd/Empire_Burlesque\">\n",
    "  <cd:artist>Bob_Dylan</cd:artist>\n",
    "  <cd:country>USA</cd:country>\n",
    "  <cd:company>Columbia</cd:company>\n",
    "  <cd:price>10.90</cd:price>\n",
    "  <cd:year>1985</cd:year>\n",
    "</rdf:Description>\n",
    "<rdf:Description\n",
    "rdf:about=\"http://www.recshop.fake/cd/Hide_your_heart\">\n",
    "  <cd:artist>Bonnie_Tyler</cd:artist>\n",
    "  <cd:country>UK</cd:country>\n",
    "  <cd:company>CBS_Records</cd:company>\n",
    "  <cd:price>9.90</cd:price>\n",
    "  <cd:year>1988</cd:year>\n",
    "</rdf:Description>\n",
    "</rdf:RDF>\n",
    "'''"
   ]
  },
  {
   "cell_type": "markdown",
   "metadata": {
    "id": "N7cRtJsRlz6d"
   },
   "source": [
    "The three apostrophes (`'''`) indicate a multiline string.\n",
    "\n",
    "With our example data ready, we can begin by creating an empty RDF store:"
   ]
  },
  {
   "cell_type": "code",
   "execution_count": null,
   "metadata": {
    "id": "NDoA5iedlz6e"
   },
   "outputs": [],
   "source": [
    "memory_store = plugin.get('Memory', Store)()"
   ]
  },
  {
   "cell_type": "markdown",
   "metadata": {
    "id": "sMob_sp5lz6f"
   },
   "source": [
    "Stores need a base URI to link concepts to, we'll use a fake example URI for this exercise:"
   ]
  },
  {
   "cell_type": "code",
   "execution_count": null,
   "metadata": {
    "id": "SWSCaHnhlz6f"
   },
   "outputs": [],
   "source": [
    "graph_id = URIRef('http://example.com/foo')"
   ]
  },
  {
   "cell_type": "markdown",
   "metadata": {
    "id": "fGOfdOVUlz6f"
   },
   "source": [
    "Finally, and as before, we'll create an RDF graph but this time we'll use the store and id defined above:"
   ]
  },
  {
   "cell_type": "code",
   "execution_count": 41,
   "metadata": {
    "id": "MipDjykglz6g"
   },
   "outputs": [],
   "source": [
    "g = Graph(store = memory_store, identifier = graph_id)"
   ]
  },
  {
   "cell_type": "markdown",
   "metadata": {
    "id": "NGu7atU0lz6g"
   },
   "source": [
    "If you closed it, open back up the `shakespeare.n3` file in a text editor. Have a look at some of the properties defined, such as `married` or `partOf`. We're going to define some new triples using these properties.\n",
    "\n",
    "What makes the Semantic Web powerful is the ability to reference and use concepts defined in _other graphs_ to create a web of shared meaning. This is achieved through URI namespacing. \n",
    "\n",
    "RDFlib predefines the RDF and RDFS namespaces, but we're going to add two more from the `shakespeare.n3` file:"
   ]
  },
  {
   "cell_type": "code",
   "execution_count": 42,
   "metadata": {
    "id": "ucPWYaYClz6h"
   },
   "outputs": [],
   "source": [
    "nslit = Namespace('http://www.workingontologist.org/Examples/Chapter3/shakespeare.owl#')\n",
    "nsbio = Namespace('http://www.workingontologist.org/Examples/Chapter3/biography.owl#')\n",
    "\n",
    "g.bind('lit',nslit)\n",
    "g.bind('bio', nsbio)"
   ]
  },
  {
   "cell_type": "markdown",
   "metadata": {
    "id": "QCm_umJJlz6h"
   },
   "source": [
    "These namespaces correspond to the following namespaces defined in `shakespeare.n3`:\n",
    "\n",
    "```\n",
    "@prefix lit:     <http://www.workingontologist.org/Examples/Chapter3/shakespeare.owl#> .\n",
    "@prefix bio:     <http://www.workingontologist.org/Examples/Chapter3/biography.owl#> .\n",
    "```\n",
    "\n",
    "We can check al the bound prefixes in our current graph with another `for` loop:"
   ]
  },
  {
   "cell_type": "code",
   "execution_count": 43,
   "metadata": {
    "colab": {
     "base_uri": "https://localhost:8080/"
    },
    "id": "-wvsqvOklz6i",
    "outputId": "c29a54db-b6b6-4073-f298-c82b327e8160"
   },
   "outputs": [
    {
     "name": "stdout",
     "output_type": "stream",
     "text": [
      "Prefix: owl. Corresponds to namespace: http://www.w3.org/2002/07/owl#\n",
      "Prefix: rdf. Corresponds to namespace: http://www.w3.org/1999/02/22-rdf-syntax-ns#\n",
      "Prefix: rdfs. Corresponds to namespace: http://www.w3.org/2000/01/rdf-schema#\n",
      "Prefix: xsd. Corresponds to namespace: http://www.w3.org/2001/XMLSchema#\n",
      "Prefix: xml. Corresponds to namespace: http://www.w3.org/XML/1998/namespace\n",
      "Prefix: lit. Corresponds to namespace: http://www.workingontologist.org/Examples/Chapter3/shakespeare.owl#\n",
      "Prefix: bio. Corresponds to namespace: http://www.workingontologist.org/Examples/Chapter3/biography.owl#\n",
      "Prefix: ex. Corresponds to namespace: http://example.com\n",
      "Prefix: ex1. Corresponds to namespace: http://example.com/bar\n",
      "Prefix: ex2. Corresponds to namespace: http://example.com/\n"
     ]
    }
   ],
   "source": [
    "for (p, n) in g.namespaces():\n",
    "  print(\"Prefix: \" + str(p) + \". Corresponds to namespace: \" + str(n))"
   ]
  },
  {
   "cell_type": "markdown",
   "metadata": {
    "id": "RJn2pGNdlz6i"
   },
   "source": [
    "Now we have our namespaces defined, we can start adding new RDF triples to the graph. To do this we'll use the `g.add` method:"
   ]
  },
  {
   "cell_type": "code",
   "execution_count": 44,
   "metadata": {
    "colab": {
     "base_uri": "https://localhost:8080/"
    },
    "id": "j48Ytu0ylz6j",
    "outputId": "dbd81dd2-cbac-449a-9deb-7c242fe51a46"
   },
   "outputs": [
    {
     "data": {
      "text/plain": [
       "<Graph identifier=http://example.com/foo (<class 'rdflib.graph.Graph'>)>"
      ]
     },
     "execution_count": 44,
     "metadata": {},
     "output_type": "execute_result"
    }
   ],
   "source": [
    "g.add( (nsbio['Cervantes'], RDF.type, nsbio['Person']) )\n",
    "g.add( (nsbio['Cervantes'], RDFS.label, Literal('Viguel_de_Cervantes')) )\n",
    "g.add( (URIRef('http://example.com/bar'), RDFS.label, Literal('bar')) )"
   ]
  },
  {
   "cell_type": "markdown",
   "metadata": {
    "id": "T3r9lEo2lz6j"
   },
   "source": [
    "Look back at Section 2 and use another `for` loop to print out our new RDF triples. Then look at Section 3 and print the graph serialised in the `turtle` format.\n",
    "\n",
    "You might notice that some parts are neatly prefixed such as `rdfs:label` but `<http://example.com/bar>` is not. This is because of the prefix binding we did earlier.\n",
    "\n",
    "Let's bind a new prefix `ex` to clear up our graph:"
   ]
  },
  {
   "cell_type": "code",
   "execution_count": 45,
   "metadata": {
    "id": "VYuwYLQ0lz6j"
   },
   "outputs": [],
   "source": [
    "g.bind('ex', 'http://example.com/')"
   ]
  },
  {
   "cell_type": "markdown",
   "metadata": {
    "id": "bFeDWwHulz6k"
   },
   "source": [
    "Printing the serialised graph again we can see `bar` is now properly abbreviated."
   ]
  },
  {
   "cell_type": "code",
   "execution_count": 46,
   "metadata": {
    "colab": {
     "base_uri": "https://localhost:8080/"
    },
    "id": "Cmt1gfCClz6k",
    "outputId": "a91c6a38-a5f8-4f17-dd60-bfdfd3572a2c"
   },
   "outputs": [
    {
     "name": "stdout",
     "output_type": "stream",
     "text": [
      "@prefix bio: <http://www.workingontologist.org/Examples/Chapter3/biography.owl#> .\n",
      "@prefix ex2: <http://example.com/> .\n",
      "@prefix rdfs: <http://www.w3.org/2000/01/rdf-schema#> .\n",
      "\n",
      "ex2:bar rdfs:label \"bar\" .\n",
      "\n",
      "bio:Cervantes a bio:Person ;\n",
      "    rdfs:label \"Viguel_de_Cervantes\" .\n",
      "\n",
      "\n"
     ]
    }
   ],
   "source": [
    "print(g.serialize(format = 'turtle'))"
   ]
  },
  {
   "cell_type": "markdown",
   "metadata": {
    "id": "o27VfxaWlz6l"
   },
   "source": [
    "Similarly, printing the namespaces again confirms a new namespace has been added."
   ]
  },
  {
   "cell_type": "code",
   "execution_count": null,
   "metadata": {
    "colab": {
     "base_uri": "https://localhost:8080/"
    },
    "id": "3wBb6Ooplz6l",
    "outputId": "030ed534-790f-4755-d0be-8d460e84b204"
   },
   "outputs": [
    {
     "name": "stdout",
     "output_type": "stream",
     "text": [
      "Prefix: owl. Corresponds to namespace: http://www.w3.org/2002/07/owl#\n",
      "Prefix: rdf. Corresponds to namespace: http://www.w3.org/1999/02/22-rdf-syntax-ns#\n",
      "Prefix: rdfs. Corresponds to namespace: http://www.w3.org/2000/01/rdf-schema#\n",
      "Prefix: xsd. Corresponds to namespace: http://www.w3.org/2001/XMLSchema#\n",
      "Prefix: xml. Corresponds to namespace: http://www.w3.org/XML/1998/namespace\n",
      "Prefix: lit. Corresponds to namespace: http://www.workingontologist.org/Examples/Chapter3/shakespeare.owl#\n",
      "Prefix: bio. Corresponds to namespace: http://www.workingontologist.org/Examples/Chapter3/biography.owl#\n",
      "Prefix: ex. Corresponds to namespace: http://example.com\n"
     ]
    }
   ],
   "source": [
    "for (p, n) in g.namespaces():\n",
    "  print(\"Prefix: \" + str(p) + \". Corresponds to namespace: \" + str(n))"
   ]
  },
  {
   "cell_type": "markdown",
   "metadata": {
    "id": "PpWC8lOZlz6l"
   },
   "source": [
    "Now we're going to take the xml data we prepared at the start of this step and add it to our RDF graph.\n",
    "\n",
    "Begin by printing the number of triples currently in the graph using the `len` function:"
   ]
  },
  {
   "cell_type": "code",
   "execution_count": null,
   "metadata": {
    "colab": {
     "base_uri": "https://localhost:8080/"
    },
    "id": "xgVker7xlz6m",
    "outputId": "3f4d8031-965f-451a-988a-20fa3eb2ef84"
   },
   "outputs": [
    {
     "name": "stdout",
     "output_type": "stream",
     "text": [
      "Number of triples in the graph: 3\n"
     ]
    }
   ],
   "source": [
    "print('Number of triples in the graph: %i' %len(g))"
   ]
  },
  {
   "cell_type": "markdown",
   "metadata": {
    "id": "U2DyRa8ilz6m"
   },
   "source": [
    "The above print looks a bit different to what we've done previously. This is known as string interpolation, the result of `len(g)` is automatically converted to a string and inserted where `%i` is in the string.\n",
    "\n",
    "We should have 3 triples in the graph.\n",
    "\n",
    "Now, parse the xml data and store it in our RDF graph:"
   ]
  },
  {
   "cell_type": "code",
   "execution_count": null,
   "metadata": {
    "colab": {
     "base_uri": "https://localhost:8080/"
    },
    "id": "_O-Y8jM6lz6m",
    "outputId": "f831b061-b6b0-4134-dbda-3d78bafd443f"
   },
   "outputs": [
    {
     "data": {
      "text/plain": [
       "<Graph identifier=http://example.com/foo (<class 'rdflib.graph.Graph'>)>"
      ]
     },
     "execution_count": 21,
     "metadata": {},
     "output_type": "execute_result"
    }
   ],
   "source": [
    "g.parse(data = rdf_xml_data, format = 'application/rdf+xml')"
   ]
  },
  {
   "cell_type": "markdown",
   "metadata": {
    "id": "JLmhaYsXlz6n"
   },
   "source": [
    "We can confirm the xml data was properly parsed by checking the number of triples now in the graph. We should now have 13 triples.\n",
    "\n",
    "The `g.objects` method allows us to query the graph and receive all objects that match the supplied subject and/or predicate. You can read about this method (and others) here: https://rdflib.readthedocs.io/en/4.2.2/intro_to_graphs.html\n",
    "\n",
    "Let's use it to print all music artists in our graph:"
   ]
  },
  {
   "cell_type": "code",
   "execution_count": null,
   "metadata": {
    "colab": {
     "base_uri": "https://localhost:8080/"
    },
    "id": "AtFQfg8Clz6n",
    "outputId": "3c88fc54-1378-4df2-de52-de4b5a7906b2"
   },
   "outputs": [
    {
     "name": "stdout",
     "output_type": "stream",
     "text": [
      "Bob_Dylan\n",
      "Bonnie_Tyler\n"
     ]
    }
   ],
   "source": [
    "artists = g.objects(subject = None, predicate = URIRef('http://www.recshop.fake/cd#artist'))\n",
    "for artist in artists:\n",
    "    print(artist)"
   ]
  },
  {
   "cell_type": "markdown",
   "metadata": {
    "id": "dLNuhDSZlz6o"
   },
   "source": [
    "Use everything you've learned so far to add some new data to the graph by creating a new CD and artist. Experiment with the `g.subjects`, `g.objects`, and `g.predicates` methods to get familiar with how to query the graph."
   ]
  },
  {
   "cell_type": "markdown",
   "metadata": {
    "id": "pu5-pruylz6r"
   },
   "source": [
    "## 5. Visualising RDF Graphs\n",
    "There are a number of websites that allow us to visualise our graphs so we don't have to simply read plain text. These websites use a `.dot` file containing the tuples to produce the visualisation, so we will need to write a python function to convert our graph to this format."
   ]
  },
  {
   "cell_type": "code",
   "execution_count": null,
   "metadata": {
    "id": "i25sZxUdlz6s"
   },
   "outputs": [],
   "source": [
    "def triplesToDot (triples, filename, nsdict):\n",
    "  out = open(filename, 'w')\n",
    "  out.write('graph \"SimpleGraph\" {\\n')\n",
    "  out.write('overlap = \"scale\";\\n')\n",
    "    \n",
    "  for t in triples:\n",
    "    s = '\"%s\" -- \"%s \" [label=\"%s\"] ;\\n' % (t[0].encode('utf-8'), t[2].encode('utf-8'), t[1].encode('utf-8'))\n",
    "    \n",
    "    for item in nsdict:\n",
    "      s = s.replace(item, nsdict[item])\n",
    "    \n",
    "    out.write(s)\n",
    "  \n",
    "  out.write('}')"
   ]
  },
  {
   "cell_type": "markdown",
   "metadata": {
    "id": "QXFtdsB3lz6t"
   },
   "source": [
    "Don't worry if you don't quite understand what's happening here, as you become more familiar with python it will be clearer.\n",
    "\n",
    "Next we're going to create a python dictionary of all the namespaces in our graph, a dictionary is a collection of key/value pairs."
   ]
  },
  {
   "cell_type": "code",
   "execution_count": null,
   "metadata": {
    "colab": {
     "base_uri": "https://localhost:8080/"
    },
    "id": "V-RecboLlz6t",
    "outputId": "a440fdac-7cec-4fa8-c2e6-df8016c5dbcd"
   },
   "outputs": [
    {
     "name": "stdout",
     "output_type": "stream",
     "text": [
      "http://www.w3.org/2002/07/owl# owl:\n",
      "http://www.w3.org/1999/02/22-rdf-syntax-ns# rdf:\n",
      "http://www.w3.org/2000/01/rdf-schema# rdfs:\n",
      "http://www.w3.org/2001/XMLSchema# xsd:\n",
      "http://www.w3.org/XML/1998/namespace xml:\n",
      "http://www.workingontologist.org/Examples/Chapter3/shakespeare.owl# lit:\n",
      "http://www.workingontologist.org/Examples/Chapter3/biography.owl# bio:\n",
      "http://example.com ex:\n",
      "http://www.recshop.fake/cd# cd:\n"
     ]
    }
   ],
   "source": [
    "namespaces = {}\n",
    "for (p, n) in g.namespaces():\n",
    "  print(n, p + ':')\n",
    "  namespaces[n] = p + ':'"
   ]
  },
  {
   "cell_type": "markdown",
   "metadata": {
    "id": "_CmFVLv5lz6u"
   },
   "source": [
    "Finally we'll call the `triplesToDot` function to create a `.dot` file from our graph:"
   ]
  },
  {
   "cell_type": "code",
   "execution_count": null,
   "metadata": {
    "id": "hgy9mmE7lz6u"
   },
   "outputs": [],
   "source": [
    "triplesToDot(g, 'week-3.dot', namespaces)"
   ]
  },
  {
   "cell_type": "markdown",
   "metadata": {
    "id": "dOPFNrdplz6v"
   },
   "source": [
    "Open `week-3.dot` in a text editor, copy the text and paste it in one of these websites:\n",
    "- http://www.webgraphviz.com/\n",
    "- http://viz-js.com/\n",
    "- https://dreampuf.github.io/GraphvizOnline/\n",
    "\n",
    "These tools can be handy to get a clearer idea of what is happening when you change a graph. Continue using what you've learned today to manipulate your RDF graph in python. Use the `triplesToDot` function to visualise the changes you're making."
   ]
  },
  {
   "cell_type": "markdown",
   "metadata": {
    "id": "4CBlljIYlz6v"
   },
   "source": [
    "## 6. Extra Practice\n",
    "When you are finished, head on over to the RDFlib documentation here: https://rdflib.readthedocs.io/en/6.1.1/. Tasks under the **Getting started** heading cover the same material that we have covered today, so checking there is a good place if you're stuck or unclear of anything. To get a deeper understanding of how RDFlib works, check out some of the links under the **In depth** heading.\n",
    "\n",
    "For an even more detailed resource, the O'Reilly book \"Programming the Semantic Web\" covers much of the material we will cover both in the labs and lectures and would serve as a useful reference throughout the module."
   ]
  },
  {
   "cell_type": "code",
   "execution_count": null,
   "metadata": {
    "id": "uD0XTp8Ulz6w"
   },
   "outputs": [],
   "source": []
  }
 ],
 "metadata": {
  "colab": {
   "provenance": [],
   "toc_visible": true
  },
  "kernelspec": {
   "display_name": "Python 3",
   "language": "python",
   "name": "python3"
  },
  "language_info": {
   "codemirror_mode": {
    "name": "ipython",
    "version": 3
   },
   "file_extension": ".py",
   "mimetype": "text/x-python",
   "name": "python",
   "nbconvert_exporter": "python",
   "pygments_lexer": "ipython3",
   "version": "3.8.3"
  }
 },
 "nbformat": 4,
 "nbformat_minor": 4
}
