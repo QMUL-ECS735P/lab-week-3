{
 "cells": [
  {
   "cell_type": "markdown",
   "metadata": {},
   "source": [
    "# Introduction to Python and RDFlib\n",
    "\n",
    "> **Session objectives:**\n",
    ">   - Become familiar with using Python to create simple Semantic Web programs.\n",
    ">   - Learn how to use RDFlib to load and manipulate RDF graphs."
   ]
  },
  {
   "cell_type": "markdown",
   "metadata": {},
   "source": [
    "## 1. Introduction\n",
    "In this lab we'll be using Python to develop simple scripts that access, query, and manipulate RDF semantic data.\n",
    "\n",
    "If you're new to Python it would be wise to keep the basic tutorial handy for reference: \n",
    "- https://docs.python.org/3.7/tutorial/. \n",
    "\n",
    "Python scripts are run by calling the `python` command, followed by the name of the python script to execute, for example:\n",
    "\n",
    "```bash\n",
    "python hello_world.py\n",
    "```\n",
    "\n",
    "It is also possible to run python in an interactive mode known as a REPL, to do this simply call `python` without any arguments:\n",
    "\n",
    "```\n",
    "python\n",
    "```\n",
    "\n",
    "If you are using one of the machines in the ITL, you will be able to follow along with this lab sheet with minimal fuss. Make sure you boot into **Linux** and not Windows. If you would like to use your own computer, you'll need to make sure you have python installed as well as the following additional libraries:\n",
    "- sparql-wrapper: https://github.com/RDFLib/sparqlwrapper\n",
    "- rdflib: https://github.com/RDFLib/rdflib\n",
    "- pyparsing: http://pyparsing.wikispaces.com/\n",
    "- networkx: http://networkx.lanl.gov/\n",
    "\n",
    "To run the interactive notebooks, you will also need to install Jupyter: https://jupyter.org/\n"
   ]
  },
  {
   "cell_type": "markdown",
   "metadata": {},
   "source": [
    "## 2. The RDFLib Graph\n",
    "We'll be working with the serialised RDF graph file `shakespeare.n3`. If it was not included with this document, you can download it yourself from: https://raw.githubusercontent.com/QMUL-ECS735P/lab-week-3/master/shakespeare.n3\n",
    "\n",
    "Open the file in a text editor and identify each RDF triple; how many are there? Have a look at both the prefixes and the defined triples. How many different concepts are defined in this RDF graph? How many properties?\n",
    "\n",
    "Before we can run python on the ITL machines, we need to set up the python environment by entering the following in the terminal:\n",
    "\n",
    "```\n",
    "module load python/3.6.6\n",
    "```\n",
    "\n",
    "This step as crucial to ensure the machines load the correct version of python and the libraries we depend on. You will have to do this every week!\n",
    "\n",
    "If you type now `python` in the terminal you should see the following output:\n",
    "\n",
    "```\n",
    "bash-4.2$ python\n",
    "Python 3.6.6 (default, Sep  3 2018, 15:31:46) \n",
    "[GCC 4.8.5 20150623 (Red Hat 4.8.5-28)] on linux\n",
    "Type \"help\", \"copyright\", \"credits\" or \"license\" for more information.\n",
    ">>> \n",
    "```\n",
    "\n",
    "Take a moment to familiarse yourself with python and the interactive shell by running some of the commands details here: https://docs.python.org/3/tutorial/introduction.html#using-python-as-a-calculator\n",
    "\n",
    "---\n",
    "\n",
    "Before using functions and classes from RDFlib, we need to add some import declarations. Evaluate the following code line-by-line:"
   ]
  },
  {
   "cell_type": "code",
   "execution_count": 1,
   "metadata": {},
   "outputs": [],
   "source": [
    "from __future__ import print_function, unicode_literals\n",
    "import warnings\n",
    "warnings.filterwarnings('ignore')"
   ]
  },
  {
   "cell_type": "code",
   "execution_count": 2,
   "metadata": {},
   "outputs": [],
   "source": [
    "import rdflib\n",
    "from rdflib.graph import Graph, Store, URIRef, BNode, Literal\n",
    "from rdflib.namespace import Namespace, RDF, RDFS\n",
    "from rdflib import plugin"
   ]
  },
  {
   "cell_type": "markdown",
   "metadata": {},
   "source": [
    "The Graph class in RDFlib represents a set of triples. We're going to create a new Graph and populate it with the definitions in `shakespeare.n3`."
   ]
  },
  {
   "cell_type": "code",
   "execution_count": null,
   "metadata": {},
   "outputs": [],
   "source": [
    "g = Graph()\n",
    "g.parse('shakespeare.n3', format = 'n3')"
   ]
  },
  {
   "cell_type": "markdown",
   "metadata": {},
   "source": [
    "If `shakespeare.n3` is saved in a different folder, make sure you write the correct path to the file. We can also create the graph by fetching the data directly from the internet:"
   ]
  },
  {
   "cell_type": "code",
   "execution_count": null,
   "metadata": {},
   "outputs": [],
   "source": [
    "g.parse('https://raw.githubusercontent.com/QMUL-ECS735P/lab-week-3/master/shakespeare.n3', format = 'n3')"
   ]
  },
  {
   "cell_type": "markdown",
   "metadata": {},
   "source": [
    "The RDF graph is now loaded in memory. We can check the number of statements using the `len` function:"
   ]
  },
  {
   "cell_type": "code",
   "execution_count": null,
   "metadata": {},
   "outputs": [],
   "source": [
    "len(g)"
   ]
  },
  {
   "cell_type": "markdown",
   "metadata": {},
   "source": [
    "Or an internal representation of the object using `repr`:"
   ]
  },
  {
   "cell_type": "code",
   "execution_count": null,
   "metadata": {},
   "outputs": [],
   "source": [
    "repr(g)"
   ]
  },
  {
   "cell_type": "markdown",
   "metadata": {},
   "source": [
    "Now, use a `for` loop to iterate through the contents of the graph (you can find the documentation for loops here: http://docs.python.org/tutorial/controlflow.html#for-statements). For now we'll just print each statement out. \n",
    "\n",
    "> Python is whitespace sensitive! We don't use `{ ... }` to denote blocks of code, instead we use indentation such as spaces or tabs."
   ]
  },
  {
   "cell_type": "code",
   "execution_count": null,
   "metadata": {},
   "outputs": [],
   "source": [
    "for st in g:\n",
    "  print(st)"
   ]
  },
  {
   "cell_type": "markdown",
   "metadata": {},
   "source": [
    "We can also use *destructuring* to unpack the subject, predicate, and object automatically in the loop:"
   ]
  },
  {
   "cell_type": "code",
   "execution_count": null,
   "metadata": {},
   "outputs": [],
   "source": [
    "for s, p, o in g:\n",
    "  print(\"subject: \" + str(s))\n",
    "  print(\"predicate: \" + str(p))\n",
    "  print(\"object is: \" + str(o))"
   ]
  },
  {
   "cell_type": "markdown",
   "metadata": {},
   "source": [
    "The actual elements in the triples are Python classes that represent URIRefs, blank nodes, and literals. Write a loop that uses the `type` function to print the type of each variable such as `type(s)`.\n",
    "\n",
    "You can read more about the Graph class here: https://rdflib.readthedocs.io/en/6.1.1/intro_to_graphs.html"
   ]
  },
  {
   "cell_type": "markdown",
   "metadata": {},
   "source": [
    "## 3. Serialisation\n",
    "With our shakespeare graph still stored in the `g` variable, we can use the `serialize` method to see what the graph looks like in different formats:"
   ]
  },
  {
   "cell_type": "code",
   "execution_count": null,
   "metadata": {},
   "outputs": [],
   "source": [
    "print(g.serialize(format = 'nt'))\n",
    "print(g.serialize(format = 'turtle'))\n",
    "print(g.serialize(format = 'xml'))"
   ]
  },
  {
   "cell_type": "markdown",
   "metadata": {},
   "source": [
    "Compare each format, note how the `turtle` format is much less verbose than N-triples (`nt`) or `xml`. Read up how to save files using python and save each serialisation to a new file such as `shakespeare.xml`. Here is a good place to start: https://www.w3schools.com/python/python_file_write.asp"
   ]
  },
  {
   "cell_type": "markdown",
   "metadata": {},
   "source": [
    "## 4. The RDF Store\n",
    "For this part of the lab, we'll be using RDFlib to create an RDF Store. Stores allow us to persist our graphs in muliple ways such as a SQL database. For simplicity, we'll be using an in-memory store: in your own time you might be interested in exploring how to use MySQL, SQLite, or Sleepycat.\n",
    "\n",
    "\n",
    "We'll create some example RDF data to manipulate with. For reference, you can find that example data here: https://www.w3schools.com/xml/xml_rdf.asp."
   ]
  },
  {
   "cell_type": "code",
   "execution_count": null,
   "metadata": {},
   "outputs": [],
   "source": [
    "rdf_xml_data = '''<?xml version=\"1.0\"?>\n",
    "<rdf:RDF xmlns:rdf=\"http://www.w3.org/1999/02/22-rdf-syntax-ns#\" xmlns:cd=\"http://www.recshop.fake/cd#\">\n",
    "<rdf:Description\n",
    "rdf:about=\"http://www.recshop.fake/cd/Empire_Burlesque\">\n",
    "  <cd:artist>Bob_Dylan</cd:artist>\n",
    "  <cd:country>USA</cd:country>\n",
    "  <cd:company>Columbia</cd:company>\n",
    "  <cd:price>10.90</cd:price>\n",
    "  <cd:year>1985</cd:year>\n",
    "</rdf:Description>\n",
    "<rdf:Description\n",
    "rdf:about=\"http://www.recshop.fake/cd/Hide_your_heart\">\n",
    "  <cd:artist>Bonnie_Tyler</cd:artist>\n",
    "  <cd:country>UK</cd:country>\n",
    "  <cd:company>CBS_Records</cd:company>\n",
    "  <cd:price>9.90</cd:price>\n",
    "  <cd:year>1988</cd:year>\n",
    "</rdf:Description>\n",
    "</rdf:RDF>\n",
    "'''"
   ]
  },
  {
   "cell_type": "markdown",
   "metadata": {},
   "source": [
    "The three apostrophes (`'''`) indicate a multiline string.\n",
    "\n",
    "With our example data ready, we can begin by creating an empty RDF store:"
   ]
  },
  {
   "cell_type": "code",
   "execution_count": 15,
   "metadata": {},
   "outputs": [],
   "source": [
    "memory_store = plugin.get('Memory', Store)()"
   ]
  },
  {
   "cell_type": "markdown",
   "metadata": {},
   "source": [
    "Stores need a base URI to link concepts to, we'll use a fake example URI for this exercise:"
   ]
  },
  {
   "cell_type": "code",
   "execution_count": 16,
   "metadata": {},
   "outputs": [],
   "source": [
    "graph_id = URIRef('http://example.com/foo')"
   ]
  },
  {
   "cell_type": "markdown",
   "metadata": {},
   "source": [
    "Finally, and as before, we'll create an RDF graph but this time we'll use the store and id defined above:"
   ]
  },
  {
   "cell_type": "code",
   "execution_count": 13,
   "metadata": {},
   "outputs": [],
   "source": [
    "g = Graph(store = memory_store, identifier = graph_id)"
   ]
  },
  {
   "cell_type": "markdown",
   "metadata": {},
   "source": [
    "If you closed it, open back up the `shakespeare.n3` file in a text editor. Have a look at some of the properties defined, such as `married` or `partOf`. We're going to define some new triples using these properties.\n",
    "\n",
    "What makes the Semantic Web powerful is the ability to reference and use concepts defined in _other graphs_ to create a web of shared meaning. This is achieved through URI namespacing. \n",
    "\n",
    "RDFlib predefines the RDF and RDFS namespaces, but we're going to add two more from the `shakespeare.n3` file:"
   ]
  },
  {
   "cell_type": "code",
   "execution_count": 14,
   "metadata": {},
   "outputs": [],
   "source": [
    "nslit = Namespace('http://www.workingontologist.org/Examples/Chapter3/shakespeare.owl#')\n",
    "nsbio = Namespace('http://www.workingontologist.org/Examples/Chapter3/biography.owl#')\n",
    "\n",
    "g.bind('lit',nslit)\n",
    "g.bind('bio', nsbio)"
   ]
  },
  {
   "cell_type": "markdown",
   "metadata": {},
   "source": [
    "These namespaces correspond to the following namespaces defined in `shakespeare.n3`:\n",
    "\n",
    "```\n",
    "@prefix lit:     <http://www.workingontologist.org/Examples/Chapter3/shakespeare.owl#> .\n",
    "@prefix bio:     <http://www.workingontologist.org/Examples/Chapter3/biography.owl#> .\n",
    "```\n",
    "\n",
    "We can check al the bound prefixes in our current graph with another `for` loop:"
   ]
  },
  {
   "cell_type": "code",
   "execution_count": null,
   "metadata": {},
   "outputs": [],
   "source": [
    "for (p, n) in g.namespaces():\n",
    "  print(\"Prefix: \" + str(p) + \". Corresponds to namespace: \" + str(n))"
   ]
  },
  {
   "cell_type": "markdown",
   "metadata": {},
   "source": [
    "Now we have our namespaces defined, we can start adding new RDF triples to the graph. To do this we'll use the `g.add` method:"
   ]
  },
  {
   "cell_type": "code",
   "execution_count": null,
   "metadata": {},
   "outputs": [],
   "source": [
    "g.add( (nsbio['Cervantes'], RDF.type, nsbio['Person']) )\n",
    "g.add( (nsbio['Cervantes'], RDFS.label, Literal('Viguel_de_Cervantes')) )\n",
    "g.add( (URIRef('http://example.com/bar'), RDFS.label, Literal('bar')) )"
   ]
  },
  {
   "cell_type": "markdown",
   "metadata": {},
   "source": [
    "Look back at Section 2 and use another `for` loop to print out our new RDF triples. Then look at Section 3 and print the graph serialised in the `turtle` format.\n",
    "\n",
    "You might notice that some parts are neatly prefixed such as `rdfs:label` but `<http://example.com/bar>` is not. This is because of the prefix binding we did earlier.\n",
    "\n",
    "Let's bind a new prefix `ex` to clear up our graph:"
   ]
  },
  {
   "cell_type": "code",
   "execution_count": 17,
   "metadata": {},
   "outputs": [],
   "source": [
    "g.bind('ex', 'http://example.com')"
   ]
  },
  {
   "cell_type": "markdown",
   "metadata": {},
   "source": [
    "Printing the serialised graph again we can see `bar` is now properly abbreviated."
   ]
  },
  {
   "cell_type": "code",
   "execution_count": null,
   "metadata": {},
   "outputs": [],
   "source": [
    "print(g.serialize(format = 'turtle').decode('utf-8'))"
   ]
  },
  {
   "cell_type": "markdown",
   "metadata": {},
   "source": [
    "Similarly, printing the namespaces again confirms a new namespace has been added."
   ]
  },
  {
   "cell_type": "code",
   "execution_count": null,
   "metadata": {},
   "outputs": [],
   "source": [
    "for (p, n) in g.namespaces():\n",
    "  print(\"Prefix: \" + str(p) + \". Corresponds to namespace: \" + str(n))"
   ]
  },
  {
   "cell_type": "markdown",
   "metadata": {},
   "source": [
    "Now we're going to take the xml data we prepared at the start of this step and add it to our RDF graph.\n",
    "\n",
    "Begin by printing the number of triples currently in the graph using the `len` function:"
   ]
  },
  {
   "cell_type": "code",
   "execution_count": null,
   "metadata": {},
   "outputs": [],
   "source": [
    "print('Number of triples in the graph: %i' %len(g))"
   ]
  },
  {
   "cell_type": "markdown",
   "metadata": {},
   "source": [
    "The above print looks a bit different to what we've done previously. This is known as string interpolation, the result of `len(g)` is automatically converted to a string and inserted where `%i` is in the string.\n",
    "\n",
    "We should have 3 triples in the graph.\n",
    "\n",
    "Now, parse the xml data and store it in our RDF graph:"
   ]
  },
  {
   "cell_type": "code",
   "execution_count": null,
   "metadata": {},
   "outputs": [],
   "source": [
    "g.parse(data = rdf_xml_data, format = 'application/rdf+xml')"
   ]
  },
  {
   "cell_type": "markdown",
   "metadata": {},
   "source": [
    "We can confirm the xml data was properly parsed by checking the number of triples now in the graph. We should now have 13 triples.\n",
    "\n",
    "The `g.objects` method allows us to query the graph and receive all objects that match the supplied subject and/or predicate. You can read about this method (and others) here: https://rdflib.readthedocs.io/en/4.2.2/intro_to_graphs.html\n",
    "\n",
    "Let's use it to print all music artists in our graph:"
   ]
  },
  {
   "cell_type": "code",
   "execution_count": null,
   "metadata": {},
   "outputs": [],
   "source": [
    "artists = g.objects(subject = None, predicate = URIRef('http://www.recshop.fake/cd#artist'))\n",
    "for artist in artists:\n",
    "    print(artist)"
   ]
  },
  {
   "cell_type": "markdown",
   "metadata": {},
   "source": [
    "Use everything you've learned so far to add some new data to the graph by creating a new CD and artist. Experiment with the `g.subjects`, `g.objects`, and `g.predicates` methods to get familiar with how to query the graph."
   ]
  },
  {
   "cell_type": "markdown",
   "metadata": {},
   "source": [
    "## 5. Visualising RDF Graphs\n",
    "There are a number of websites that allow us to visualise our graphs so we don't have to simply read plain text. These websites use a `.dot` file containing the tuples to produce the visualisation, so we will need to write a python function to convert our graph to this format."
   ]
  },
  {
   "cell_type": "code",
   "execution_count": null,
   "metadata": {},
   "outputs": [],
   "source": [
    "def triplesToDot (triples, filename, nsdict):\n",
    "  out = open(filename, 'w')\n",
    "  out.write('graph \"SimpleGraph\" {\\n')\n",
    "  out.write('overlap = \"scale\";\\n')\n",
    "    \n",
    "  for t in triples:\n",
    "    s = '\"%s\" -- \"%s \" [label=\"%s\"] ;\\n' % (t[0].encode('utf-8'), t[2].encode('utf-8'), t[1].encode('utf-8'))\n",
    "    \n",
    "    for item in nsdict:\n",
    "      s = s.replace(item, nsdict[item])\n",
    "    \n",
    "    out.write(s)\n",
    "  \n",
    "  out.write('}')"
   ]
  },
  {
   "cell_type": "markdown",
   "metadata": {},
   "source": [
    "Don't worry if you don't quite understand what's happening here, as you become more familiar with python it will be clearer.\n",
    "\n",
    "Next we're going to create a python dictionary of all the namespaces in our graph, a dictionary is a collection of key/value pairs."
   ]
  },
  {
   "cell_type": "code",
   "execution_count": null,
   "metadata": {},
   "outputs": [],
   "source": [
    "namespaces = {}\n",
    "for (p, n) in g.namespaces():\n",
    "  print(n, p + ':')\n",
    "  namespaces[n] = p + ':'"
   ]
  },
  {
   "cell_type": "markdown",
   "metadata": {},
   "source": [
    "Finally we'll call the `triplesToDot` function to create a `.dot` file from our graph:"
   ]
  },
  {
   "cell_type": "code",
   "execution_count": 25,
   "metadata": {},
   "outputs": [],
   "source": [
    "triplesToDot(g, 'week-3.dot', namespaces)"
   ]
  },
  {
   "cell_type": "markdown",
   "metadata": {},
   "source": [
    "Open `week-3.dot` in a text editor, copy the text and paste it in one of these websites:\n",
    "- http://www.webgraphviz.com/\n",
    "- http://viz-js.com/\n",
    "- https://dreampuf.github.io/GraphvizOnline/\n",
    "\n",
    "These tools can be handy to get a clearer idea of what is happening when you change a graph. Continue using what you've learned today to manipulate your RDF graph in python. Use the `triplesToDot` function to visualise the changes you're making."
   ]
  },
  {
   "cell_type": "markdown",
   "metadata": {},
   "source": [
    "## 6. Extra Practice\n",
    "When you are finished, head on over to the RDFlib documentation here: https://rdflib.readthedocs.io/en/6.1.1/. Tasks under the **Getting started** heading cover the same material that we have covered today, so checking there is a good place if you're stuck or unclear of anything. To get a deeper understanding of how RDFlib works, check out some of the links under the **In depth** heading.\n",
    "\n",
    "For an even more detailed resource, the O'Reilly book \"Programming the Semantic Web\" covers much of the material we will cover both in the labs and lectures and would serve as a useful reference throughout the module."
   ]
  },
  {
   "cell_type": "code",
   "execution_count": null,
   "metadata": {},
   "outputs": [],
   "source": []
  }
 ],
 "metadata": {
  "kernelspec": {
   "display_name": "Python 3",
   "language": "python",
   "name": "python3"
  },
  "language_info": {
   "codemirror_mode": {
    "name": "ipython",
    "version": 3
   },
   "file_extension": ".py",
   "mimetype": "text/x-python",
   "name": "python",
   "nbconvert_exporter": "python",
   "pygments_lexer": "ipython3",
   "version": "3.8.3"
  }
 },
 "nbformat": 4,
 "nbformat_minor": 4
}
